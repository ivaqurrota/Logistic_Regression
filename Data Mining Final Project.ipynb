{
  "cells": [
    {
      "cell_type": "markdown",
      "metadata": {
        "id": "view-in-github",
        "colab_type": "text"
      },
      "source": [
        "<a href=\"https://colab.research.google.com/github/ivaqurrota/Logistic_Regression/blob/main/Data%20Mining%20Final%20Project.ipynb\" target=\"_parent\"><img src=\"https://colab.research.google.com/assets/colab-badge.svg\" alt=\"Open In Colab\"/></a>"
      ]
    },
    {
      "cell_type": "code",
      "execution_count": null,
      "metadata": {
        "id": "25epOkz_wbM9"
      },
      "outputs": [],
      "source": [
        "import pandas as pd\n",
        "import numpy as np\n",
        "import matplotlib.pyplot as plt\n",
        "import seaborn as sns"
      ]
    },
    {
      "cell_type": "markdown",
      "metadata": {
        "id": "2ljGMMV0wbNA"
      },
      "source": [
        "# Pre-Processing"
      ]
    },
    {
      "cell_type": "code",
      "execution_count": null,
      "metadata": {
        "scrolled": true,
        "id": "9QUUTwN3wbNC",
        "outputId": "5f22ed48-c3ff-47d2-dd63-914f968b11fd"
      },
      "outputs": [
        {
          "data": {
            "text/html": [
              "<div>\n",
              "<style scoped>\n",
              "    .dataframe tbody tr th:only-of-type {\n",
              "        vertical-align: middle;\n",
              "    }\n",
              "\n",
              "    .dataframe tbody tr th {\n",
              "        vertical-align: top;\n",
              "    }\n",
              "\n",
              "    .dataframe thead th {\n",
              "        text-align: right;\n",
              "    }\n",
              "</style>\n",
              "<table border=\"1\" class=\"dataframe\">\n",
              "  <thead>\n",
              "    <tr style=\"text-align: right;\">\n",
              "      <th></th>\n",
              "      <th>Dress_ID</th>\n",
              "      <th>Style</th>\n",
              "      <th>Price</th>\n",
              "      <th>Rating</th>\n",
              "      <th>Size</th>\n",
              "      <th>Season</th>\n",
              "      <th>NeckLine</th>\n",
              "      <th>SleeveLength</th>\n",
              "      <th>Waistline</th>\n",
              "      <th>Material</th>\n",
              "      <th>FabricType</th>\n",
              "      <th>Decoration</th>\n",
              "      <th>PatternType</th>\n",
              "      <th>Recommendation</th>\n",
              "    </tr>\n",
              "  </thead>\n",
              "  <tbody>\n",
              "    <tr>\n",
              "      <th>0</th>\n",
              "      <td>1006032852</td>\n",
              "      <td>Sexy</td>\n",
              "      <td>Low</td>\n",
              "      <td>4.6</td>\n",
              "      <td>M</td>\n",
              "      <td>Summer</td>\n",
              "      <td>o-neck</td>\n",
              "      <td>sleeveless</td>\n",
              "      <td>empire</td>\n",
              "      <td>NaN</td>\n",
              "      <td>chiffon</td>\n",
              "      <td>ruffles</td>\n",
              "      <td>animal</td>\n",
              "      <td>1</td>\n",
              "    </tr>\n",
              "    <tr>\n",
              "      <th>1</th>\n",
              "      <td>1212192089</td>\n",
              "      <td>Casual</td>\n",
              "      <td>Low</td>\n",
              "      <td>0.0</td>\n",
              "      <td>L</td>\n",
              "      <td>Summer</td>\n",
              "      <td>o-neck</td>\n",
              "      <td>petal</td>\n",
              "      <td>natural</td>\n",
              "      <td>microfiber</td>\n",
              "      <td>NaN</td>\n",
              "      <td>ruffles</td>\n",
              "      <td>animal</td>\n",
              "      <td>0</td>\n",
              "    </tr>\n",
              "    <tr>\n",
              "      <th>2</th>\n",
              "      <td>1190380701</td>\n",
              "      <td>Vintage</td>\n",
              "      <td>High</td>\n",
              "      <td>0.0</td>\n",
              "      <td>L</td>\n",
              "      <td>Autumn</td>\n",
              "      <td>o-neck</td>\n",
              "      <td>full</td>\n",
              "      <td>natural</td>\n",
              "      <td>polyster</td>\n",
              "      <td>NaN</td>\n",
              "      <td>NaN</td>\n",
              "      <td>print</td>\n",
              "      <td>0</td>\n",
              "    </tr>\n",
              "    <tr>\n",
              "      <th>3</th>\n",
              "      <td>966005983</td>\n",
              "      <td>Brief</td>\n",
              "      <td>Average</td>\n",
              "      <td>4.6</td>\n",
              "      <td>L</td>\n",
              "      <td>Spring</td>\n",
              "      <td>o-neck</td>\n",
              "      <td>full</td>\n",
              "      <td>natural</td>\n",
              "      <td>silk</td>\n",
              "      <td>chiffon</td>\n",
              "      <td>embroidary</td>\n",
              "      <td>print</td>\n",
              "      <td>1</td>\n",
              "    </tr>\n",
              "    <tr>\n",
              "      <th>4</th>\n",
              "      <td>876339541</td>\n",
              "      <td>Cute</td>\n",
              "      <td>Low</td>\n",
              "      <td>4.5</td>\n",
              "      <td>M</td>\n",
              "      <td>Summer</td>\n",
              "      <td>o-neck</td>\n",
              "      <td>butterfly</td>\n",
              "      <td>natural</td>\n",
              "      <td>chiffon</td>\n",
              "      <td>chiffon</td>\n",
              "      <td>bow</td>\n",
              "      <td>dot</td>\n",
              "      <td>0</td>\n",
              "    </tr>\n",
              "  </tbody>\n",
              "</table>\n",
              "</div>"
            ],
            "text/plain": [
              "     Dress_ID    Style    Price  Rating Size  Season NeckLine SleeveLength  \\\n",
              "0  1006032852     Sexy      Low     4.6    M  Summer   o-neck   sleeveless   \n",
              "1  1212192089   Casual      Low     0.0    L  Summer   o-neck        petal   \n",
              "2  1190380701  Vintage     High     0.0    L  Autumn   o-neck         full   \n",
              "3   966005983    Brief  Average     4.6    L  Spring   o-neck         full   \n",
              "4   876339541     Cute      Low     4.5    M  Summer   o-neck    butterfly   \n",
              "\n",
              "  Waistline    Material FabricType  Decoration PatternType  Recommendation  \n",
              "0    empire         NaN    chiffon     ruffles      animal               1  \n",
              "1   natural  microfiber        NaN     ruffles      animal               0  \n",
              "2   natural    polyster        NaN         NaN       print               0  \n",
              "3   natural        silk    chiffon  embroidary       print               1  \n",
              "4   natural     chiffon    chiffon         bow         dot               0  "
            ]
          },
          "execution_count": 114,
          "metadata": {},
          "output_type": "execute_result"
        }
      ],
      "source": [
        "data = pd.read_csv(\"dress.csv\",delimiter=';')\n",
        "data.head()"
      ]
    },
    {
      "cell_type": "code",
      "execution_count": null,
      "metadata": {
        "id": "XGXnyoBIwbND",
        "outputId": "fae4c711-985a-4757-a243-a3295ea1a394"
      },
      "outputs": [
        {
          "data": {
            "text/plain": [
              "(500, 14)"
            ]
          },
          "execution_count": 115,
          "metadata": {},
          "output_type": "execute_result"
        }
      ],
      "source": [
        "data.shape"
      ]
    },
    {
      "cell_type": "code",
      "execution_count": null,
      "metadata": {
        "id": "MgjFK0srwbNE",
        "outputId": "2b58923f-fe95-4d74-f627-b72e4077d3b7"
      },
      "outputs": [
        {
          "name": "stdout",
          "output_type": "stream",
          "text": [
            "<class 'pandas.core.frame.DataFrame'>\n",
            "RangeIndex: 500 entries, 0 to 499\n",
            "Data columns (total 14 columns):\n",
            " #   Column          Non-Null Count  Dtype  \n",
            "---  ------          --------------  -----  \n",
            " 0   Dress_ID        500 non-null    int64  \n",
            " 1   Style           500 non-null    object \n",
            " 2   Price           498 non-null    object \n",
            " 3   Rating          500 non-null    float64\n",
            " 4   Size            500 non-null    object \n",
            " 5   Season          498 non-null    object \n",
            " 6   NeckLine        497 non-null    object \n",
            " 7   SleeveLength    498 non-null    object \n",
            " 8   Waistline       413 non-null    object \n",
            " 9   Material        372 non-null    object \n",
            " 10  FabricType      234 non-null    object \n",
            " 11  Decoration      264 non-null    object \n",
            " 12  PatternType     391 non-null    object \n",
            " 13  Recommendation  500 non-null    int64  \n",
            "dtypes: float64(1), int64(2), object(11)\n",
            "memory usage: 54.8+ KB\n"
          ]
        }
      ],
      "source": [
        "data.info()"
      ]
    },
    {
      "cell_type": "code",
      "execution_count": null,
      "metadata": {
        "id": "rS14bZgDwbNF",
        "outputId": "ddd42784-078f-48b4-da0c-e71a4d2dda2e"
      },
      "outputs": [
        {
          "data": {
            "text/plain": [
              "Dress_ID            0\n",
              "Style               0\n",
              "Price               2\n",
              "Rating              0\n",
              "Size                0\n",
              "Season              2\n",
              "NeckLine            3\n",
              "SleeveLength        2\n",
              "Waistline          87\n",
              "Material          128\n",
              "FabricType        266\n",
              "Decoration        236\n",
              "PatternType       109\n",
              "Recommendation      0\n",
              "dtype: int64"
            ]
          },
          "execution_count": 117,
          "metadata": {},
          "output_type": "execute_result"
        }
      ],
      "source": [
        "np.sum(data.isnull())"
      ]
    },
    {
      "cell_type": "code",
      "execution_count": null,
      "metadata": {
        "id": "CkgZGIbLwbNF",
        "outputId": "bcc078b6-71cd-411d-aa24-66278665fd1e"
      },
      "outputs": [
        {
          "data": {
            "text/html": [
              "<div>\n",
              "<style scoped>\n",
              "    .dataframe tbody tr th:only-of-type {\n",
              "        vertical-align: middle;\n",
              "    }\n",
              "\n",
              "    .dataframe tbody tr th {\n",
              "        vertical-align: top;\n",
              "    }\n",
              "\n",
              "    .dataframe thead th {\n",
              "        text-align: right;\n",
              "    }\n",
              "</style>\n",
              "<table border=\"1\" class=\"dataframe\">\n",
              "  <thead>\n",
              "    <tr style=\"text-align: right;\">\n",
              "      <th></th>\n",
              "      <th>Dress_ID</th>\n",
              "      <th>Style</th>\n",
              "      <th>Price</th>\n",
              "      <th>Rating</th>\n",
              "      <th>Size</th>\n",
              "      <th>Season</th>\n",
              "      <th>NeckLine</th>\n",
              "      <th>SleeveLength</th>\n",
              "      <th>Waistline</th>\n",
              "      <th>Material</th>\n",
              "      <th>FabricType</th>\n",
              "      <th>Decoration</th>\n",
              "      <th>PatternType</th>\n",
              "      <th>Recommendation</th>\n",
              "    </tr>\n",
              "  </thead>\n",
              "  <tbody>\n",
              "    <tr>\n",
              "      <th>0</th>\n",
              "      <td>1006032852</td>\n",
              "      <td>Sexy</td>\n",
              "      <td>Low</td>\n",
              "      <td>4.6</td>\n",
              "      <td>M</td>\n",
              "      <td>Summer</td>\n",
              "      <td>o-neck</td>\n",
              "      <td>sleeveless</td>\n",
              "      <td>empire</td>\n",
              "      <td>NaN</td>\n",
              "      <td>chiffon</td>\n",
              "      <td>ruffles</td>\n",
              "      <td>animal</td>\n",
              "      <td>1</td>\n",
              "    </tr>\n",
              "    <tr>\n",
              "      <th>1</th>\n",
              "      <td>1212192089</td>\n",
              "      <td>Casual</td>\n",
              "      <td>Low</td>\n",
              "      <td>0.0</td>\n",
              "      <td>L</td>\n",
              "      <td>Summer</td>\n",
              "      <td>o-neck</td>\n",
              "      <td>petal</td>\n",
              "      <td>natural</td>\n",
              "      <td>microfiber</td>\n",
              "      <td>NaN</td>\n",
              "      <td>ruffles</td>\n",
              "      <td>animal</td>\n",
              "      <td>0</td>\n",
              "    </tr>\n",
              "    <tr>\n",
              "      <th>2</th>\n",
              "      <td>1190380701</td>\n",
              "      <td>Vintage</td>\n",
              "      <td>High</td>\n",
              "      <td>0.0</td>\n",
              "      <td>L</td>\n",
              "      <td>Autumn</td>\n",
              "      <td>o-neck</td>\n",
              "      <td>full</td>\n",
              "      <td>natural</td>\n",
              "      <td>polyster</td>\n",
              "      <td>NaN</td>\n",
              "      <td>NaN</td>\n",
              "      <td>print</td>\n",
              "      <td>0</td>\n",
              "    </tr>\n",
              "    <tr>\n",
              "      <th>3</th>\n",
              "      <td>966005983</td>\n",
              "      <td>Brief</td>\n",
              "      <td>Average</td>\n",
              "      <td>4.6</td>\n",
              "      <td>L</td>\n",
              "      <td>Spring</td>\n",
              "      <td>o-neck</td>\n",
              "      <td>full</td>\n",
              "      <td>natural</td>\n",
              "      <td>silk</td>\n",
              "      <td>chiffon</td>\n",
              "      <td>embroidary</td>\n",
              "      <td>print</td>\n",
              "      <td>1</td>\n",
              "    </tr>\n",
              "    <tr>\n",
              "      <th>4</th>\n",
              "      <td>876339541</td>\n",
              "      <td>Cute</td>\n",
              "      <td>Low</td>\n",
              "      <td>4.5</td>\n",
              "      <td>M</td>\n",
              "      <td>Summer</td>\n",
              "      <td>o-neck</td>\n",
              "      <td>butterfly</td>\n",
              "      <td>natural</td>\n",
              "      <td>chiffon</td>\n",
              "      <td>chiffon</td>\n",
              "      <td>bow</td>\n",
              "      <td>dot</td>\n",
              "      <td>0</td>\n",
              "    </tr>\n",
              "  </tbody>\n",
              "</table>\n",
              "</div>"
            ],
            "text/plain": [
              "     Dress_ID    Style    Price  Rating Size  Season NeckLine SleeveLength  \\\n",
              "0  1006032852     Sexy      Low     4.6    M  Summer   o-neck   sleeveless   \n",
              "1  1212192089   Casual      Low     0.0    L  Summer   o-neck        petal   \n",
              "2  1190380701  Vintage     High     0.0    L  Autumn   o-neck         full   \n",
              "3   966005983    Brief  Average     4.6    L  Spring   o-neck         full   \n",
              "4   876339541     Cute      Low     4.5    M  Summer   o-neck    butterfly   \n",
              "\n",
              "  Waistline    Material FabricType  Decoration PatternType  Recommendation  \n",
              "0    empire         NaN    chiffon     ruffles      animal               1  \n",
              "1   natural  microfiber        NaN     ruffles      animal               0  \n",
              "2   natural    polyster        NaN         NaN       print               0  \n",
              "3   natural        silk    chiffon  embroidary       print               1  \n",
              "4   natural     chiffon    chiffon         bow         dot               0  "
            ]
          },
          "execution_count": 118,
          "metadata": {},
          "output_type": "execute_result"
        }
      ],
      "source": [
        "data.head()"
      ]
    },
    {
      "cell_type": "markdown",
      "metadata": {
        "id": "r-97OzRiwbNG"
      },
      "source": [
        "dikarenakan missing value dari variabel Price, Season, Neckline dan Sleevelength kurang dari 5% maka dapat dilakukan penghapusan baris. Variabel Waistline, Pattern Type, Material dan Decoration missing value kurang dari 50%, maka missing value dapat diimputasikan. Missing value variabel Fabric Type sebesar 53,2%, maka variabel dapat dihapus. Juga dihpus variabel Dress_ID karena dirasa tidak perlu."
      ]
    },
    {
      "cell_type": "code",
      "execution_count": null,
      "metadata": {
        "id": "tSl0c_ShwbNG",
        "outputId": "bdf63d5c-0f8e-4a37-bcad-60d36be007f4"
      },
      "outputs": [
        {
          "data": {
            "text/plain": [
              "Dress_ID            0\n",
              "Style               0\n",
              "Price               2\n",
              "Rating              0\n",
              "Size                0\n",
              "Season              2\n",
              "NeckLine            3\n",
              "SleeveLength        2\n",
              "Waistline           0\n",
              "Material            0\n",
              "FabricType        266\n",
              "Decoration          0\n",
              "PatternType         0\n",
              "Recommendation      0\n",
              "dtype: int64"
            ]
          },
          "execution_count": 119,
          "metadata": {},
          "output_type": "execute_result"
        }
      ],
      "source": [
        "#Imputasi data\n",
        "from scipy.stats import mode\n",
        "\n",
        "data['Waistline']=data['Waistline'].fillna(data['Waistline'].mode()[0])\n",
        "data['PatternType']=data['PatternType'].fillna(data['PatternType'].mode()[0])\n",
        "data['Material']=data['Material'].fillna(data['Material'].mode()[0])\n",
        "data['Decoration']=data['Decoration'].fillna(data['Decoration'].mode()[0])\n",
        "np.sum(data.isnull())"
      ]
    },
    {
      "cell_type": "code",
      "execution_count": null,
      "metadata": {
        "id": "7nzNiMS9wbNH",
        "outputId": "e6989c98-4707-48c3-d601-f896c631f2b4"
      },
      "outputs": [
        {
          "data": {
            "text/plain": [
              "Style             0\n",
              "Price             2\n",
              "Rating            0\n",
              "Size              0\n",
              "Season            2\n",
              "NeckLine          3\n",
              "SleeveLength      2\n",
              "Waistline         0\n",
              "Material          0\n",
              "Decoration        0\n",
              "PatternType       0\n",
              "Recommendation    0\n",
              "dtype: int64"
            ]
          },
          "execution_count": 120,
          "metadata": {},
          "output_type": "execute_result"
        }
      ],
      "source": [
        "#menghapus variabel Fabric Type dan Dress_ID\n",
        "\n",
        "data=data.drop('FabricType',1)\n",
        "data=data.drop('Dress_ID',1)\n",
        "np.sum(data.isnull())"
      ]
    },
    {
      "cell_type": "code",
      "execution_count": null,
      "metadata": {
        "id": "2Spik3RvwbNH",
        "outputId": "5ce3b6ce-3ab6-4a23-93fc-da1ad5798c45"
      },
      "outputs": [
        {
          "data": {
            "text/plain": [
              "Style             0\n",
              "Price             0\n",
              "Rating            0\n",
              "Size              0\n",
              "Season            0\n",
              "NeckLine          0\n",
              "SleeveLength      0\n",
              "Waistline         0\n",
              "Material          0\n",
              "Decoration        0\n",
              "PatternType       0\n",
              "Recommendation    0\n",
              "dtype: int64"
            ]
          },
          "execution_count": 121,
          "metadata": {},
          "output_type": "execute_result"
        }
      ],
      "source": [
        "#menghapus baris yang mengandung missing value\n",
        "\n",
        "data=data.dropna()\n",
        "np.sum(data.isnull())"
      ]
    },
    {
      "cell_type": "code",
      "execution_count": null,
      "metadata": {
        "scrolled": true,
        "id": "iUPMfsGIwbNI",
        "outputId": "321a52f2-05a2-450f-c472-cdeba61025c8"
      },
      "outputs": [
        {
          "data": {
            "text/html": [
              "<div>\n",
              "<style scoped>\n",
              "    .dataframe tbody tr th:only-of-type {\n",
              "        vertical-align: middle;\n",
              "    }\n",
              "\n",
              "    .dataframe tbody tr th {\n",
              "        vertical-align: top;\n",
              "    }\n",
              "\n",
              "    .dataframe thead th {\n",
              "        text-align: right;\n",
              "    }\n",
              "</style>\n",
              "<table border=\"1\" class=\"dataframe\">\n",
              "  <thead>\n",
              "    <tr style=\"text-align: right;\">\n",
              "      <th></th>\n",
              "      <th>Style</th>\n",
              "      <th>Price</th>\n",
              "      <th>Rating</th>\n",
              "      <th>Size</th>\n",
              "      <th>Season</th>\n",
              "      <th>NeckLine</th>\n",
              "      <th>SleeveLength</th>\n",
              "      <th>Waistline</th>\n",
              "      <th>Material</th>\n",
              "      <th>Decoration</th>\n",
              "      <th>PatternType</th>\n",
              "      <th>Recommendation</th>\n",
              "    </tr>\n",
              "  </thead>\n",
              "  <tbody>\n",
              "    <tr>\n",
              "      <th>0</th>\n",
              "      <td>Sexy</td>\n",
              "      <td>Low</td>\n",
              "      <td>4.6</td>\n",
              "      <td>M</td>\n",
              "      <td>Summer</td>\n",
              "      <td>o-neck</td>\n",
              "      <td>sleeveless</td>\n",
              "      <td>empire</td>\n",
              "      <td>cotton</td>\n",
              "      <td>ruffles</td>\n",
              "      <td>animal</td>\n",
              "      <td>1</td>\n",
              "    </tr>\n",
              "    <tr>\n",
              "      <th>1</th>\n",
              "      <td>Casual</td>\n",
              "      <td>Low</td>\n",
              "      <td>0.0</td>\n",
              "      <td>L</td>\n",
              "      <td>Summer</td>\n",
              "      <td>o-neck</td>\n",
              "      <td>petal</td>\n",
              "      <td>natural</td>\n",
              "      <td>microfiber</td>\n",
              "      <td>ruffles</td>\n",
              "      <td>animal</td>\n",
              "      <td>0</td>\n",
              "    </tr>\n",
              "    <tr>\n",
              "      <th>2</th>\n",
              "      <td>Vintage</td>\n",
              "      <td>High</td>\n",
              "      <td>0.0</td>\n",
              "      <td>L</td>\n",
              "      <td>Autumn</td>\n",
              "      <td>o-neck</td>\n",
              "      <td>full</td>\n",
              "      <td>natural</td>\n",
              "      <td>polyster</td>\n",
              "      <td>lace</td>\n",
              "      <td>print</td>\n",
              "      <td>0</td>\n",
              "    </tr>\n",
              "    <tr>\n",
              "      <th>3</th>\n",
              "      <td>Brief</td>\n",
              "      <td>Average</td>\n",
              "      <td>4.6</td>\n",
              "      <td>L</td>\n",
              "      <td>Spring</td>\n",
              "      <td>o-neck</td>\n",
              "      <td>full</td>\n",
              "      <td>natural</td>\n",
              "      <td>silk</td>\n",
              "      <td>embroidary</td>\n",
              "      <td>print</td>\n",
              "      <td>1</td>\n",
              "    </tr>\n",
              "    <tr>\n",
              "      <th>4</th>\n",
              "      <td>Cute</td>\n",
              "      <td>Low</td>\n",
              "      <td>4.5</td>\n",
              "      <td>M</td>\n",
              "      <td>Summer</td>\n",
              "      <td>o-neck</td>\n",
              "      <td>butterfly</td>\n",
              "      <td>natural</td>\n",
              "      <td>chiffon</td>\n",
              "      <td>bow</td>\n",
              "      <td>dot</td>\n",
              "      <td>0</td>\n",
              "    </tr>\n",
              "  </tbody>\n",
              "</table>\n",
              "</div>"
            ],
            "text/plain": [
              "     Style    Price  Rating Size  Season NeckLine SleeveLength Waistline  \\\n",
              "0     Sexy      Low     4.6    M  Summer   o-neck   sleeveless    empire   \n",
              "1   Casual      Low     0.0    L  Summer   o-neck        petal   natural   \n",
              "2  Vintage     High     0.0    L  Autumn   o-neck         full   natural   \n",
              "3    Brief  Average     4.6    L  Spring   o-neck         full   natural   \n",
              "4     Cute      Low     4.5    M  Summer   o-neck    butterfly   natural   \n",
              "\n",
              "     Material  Decoration PatternType  Recommendation  \n",
              "0      cotton     ruffles      animal               1  \n",
              "1  microfiber     ruffles      animal               0  \n",
              "2    polyster        lace       print               0  \n",
              "3        silk  embroidary       print               1  \n",
              "4     chiffon         bow         dot               0  "
            ]
          },
          "execution_count": 122,
          "metadata": {},
          "output_type": "execute_result"
        }
      ],
      "source": [
        "data.head()"
      ]
    },
    {
      "cell_type": "code",
      "execution_count": null,
      "metadata": {
        "scrolled": true,
        "id": "Orzz0bhtwbNJ",
        "outputId": "181a9679-0420-41d1-dc8c-4d02b4cf2d1e"
      },
      "outputs": [
        {
          "name": "stdout",
          "output_type": "stream",
          "text": [
            "<class 'pandas.core.frame.DataFrame'>\n",
            "Int64Index: 493 entries, 0 to 499\n",
            "Data columns (total 12 columns):\n",
            " #   Column          Non-Null Count  Dtype \n",
            "---  ------          --------------  ----- \n",
            " 0   Style           493 non-null    object\n",
            " 1   Price           493 non-null    object\n",
            " 2   Rating          493 non-null    int32 \n",
            " 3   Size            493 non-null    object\n",
            " 4   Season          493 non-null    object\n",
            " 5   NeckLine        493 non-null    object\n",
            " 6   SleeveLength    493 non-null    object\n",
            " 7   Waistline       493 non-null    object\n",
            " 8   Material        493 non-null    object\n",
            " 9   Decoration      493 non-null    object\n",
            " 10  PatternType     493 non-null    object\n",
            " 11  Recommendation  493 non-null    int64 \n",
            "dtypes: int32(1), int64(1), object(10)\n",
            "memory usage: 48.1+ KB\n"
          ]
        }
      ],
      "source": [
        "#Mengubah variabel rating menjadi numeric\n",
        "data.Rating = data.Rating.astype(int)\n",
        "data.info()"
      ]
    },
    {
      "cell_type": "code",
      "execution_count": null,
      "metadata": {
        "scrolled": true,
        "id": "nBtYP2-5wbNJ",
        "outputId": "5a256870-622b-4854-924a-bdfd3bbd6e00"
      },
      "outputs": [
        {
          "data": {
            "text/plain": [
              "(493, 12)"
            ]
          },
          "execution_count": 124,
          "metadata": {},
          "output_type": "execute_result"
        }
      ],
      "source": [
        "data.shape"
      ]
    },
    {
      "cell_type": "markdown",
      "metadata": {
        "id": "VqxKAd7VwbNJ"
      },
      "source": [
        "# Summary Statistics and Visualization"
      ]
    },
    {
      "cell_type": "code",
      "execution_count": null,
      "metadata": {
        "id": "mxZ_JePkwbNK",
        "outputId": "a69f2a58-91c0-4758-f6ff-496a5e2b40dd"
      },
      "outputs": [
        {
          "data": {
            "text/plain": [
              "<AxesSubplot:xlabel='Price', ylabel='Rating'>"
            ]
          },
          "execution_count": 125,
          "metadata": {},
          "output_type": "execute_result"
        },
        {
          "data": {
            "image/png": "[encoded data removed]",
            "text/plain": [
              "<Figure size 432x288 with 1 Axes>"
            ]
          },
          "metadata": {
            "needs_background": "light"
          },
          "output_type": "display_data"
        }
      ],
      "source": [
        "#Plot Rating\n",
        "sns.violinplot(x=data[\"Price\"], y=data[\"Rating\"], palette=\"pastel\")"
      ]
    },
    {
      "cell_type": "code",
      "execution_count": null,
      "metadata": {
        "id": "OqiO5StrwbNK",
        "outputId": "828a0fd1-30ba-4911-bb95-1eeb3d1e5454"
      },
      "outputs": [
        {
          "data": {
            "text/plain": [
              "<AxesSubplot:>"
            ]
          },
          "execution_count": 126,
          "metadata": {},
          "output_type": "execute_result"
        },
        {
          "data": {
            "image/png": "[encoded data removed]",
            "text/plain": [
              "<Figure size 432x288 with 1 Axes>"
            ]
          },
          "metadata": {
            "needs_background": "light"
          },
          "output_type": "display_data"
        }
      ],
      "source": [
        "#Plot Waistline\n",
        "color =sns.color_palette(\"icefire\")\n",
        "data['Waistline'].value_counts().plot.barh(color=color)"
      ]
    },
    {
      "cell_type": "code",
      "execution_count": null,
      "metadata": {
        "id": "GcqnwzBXwbNK",
        "outputId": "ba530de1-8877-4f84-ed24-86d4ba25c771"
      },
      "outputs": [
        {
          "data": {
            "image/png": "[encoded data removed]",
            "text/plain": [
              "<Figure size 432x288 with 1 Axes>"
            ]
          },
          "metadata": {},
          "output_type": "display_data"
        }
      ],
      "source": [
        "#Plot Season\n",
        "Pie = data['Season'].value_counts()\n",
        "color = [\"lightpink\", \"lightsteelblue\", \"lightgreen\", \"sandybrown\"]\n",
        "Pie.plot.pie(autopct='%.2f%%',colors=color, shadow= True)\n",
        "plt.show()"
      ]
    },
    {
      "cell_type": "code",
      "execution_count": null,
      "metadata": {
        "id": "_j-__kL5wbNL",
        "outputId": "ff0b02bf-85cb-43ae-df83-469debe0aff1"
      },
      "outputs": [
        {
          "data": {
            "text/plain": [
              "<AxesSubplot:>"
            ]
          },
          "execution_count": 128,
          "metadata": {},
          "output_type": "execute_result"
        },
        {
          "data": {
            "image/png": "[encoded data removed]",
            "text/plain": [
              "<Figure size 432x288 with 1 Axes>"
            ]
          },
          "metadata": {
            "needs_background": "light"
          },
          "output_type": "display_data"
        }
      ],
      "source": [
        "#Plot Style\n",
        "color = sns.color_palette('cubehelix')\n",
        "data['Style'].value_counts().plot.barh(color=color)"
      ]
    },
    {
      "cell_type": "code",
      "execution_count": null,
      "metadata": {
        "id": "lMSCWt8bwbNM",
        "outputId": "7bf5a5d1-e96e-4d7a-f6a5-2751cabe5364"
      },
      "outputs": [
        {
          "data": {
            "image/png": "[encoded data removed]",
            "text/plain": [
              "<Figure size 432x288 with 1 Axes>"
            ]
          },
          "metadata": {},
          "output_type": "display_data"
        }
      ],
      "source": [
        "#Plot Size\n",
        "Pie = data['Size'].value_counts()\n",
        "color = sns.color_palette('flare')\n",
        "Pie.plot.pie(autopct='%.2f%%', colors=color, shadow= True)\n",
        "plt.show()"
      ]
    },
    {
      "cell_type": "code",
      "execution_count": null,
      "metadata": {
        "id": "gKHIIt6RwbNN",
        "outputId": "fb2855fe-5999-4797-893d-a881915700cc"
      },
      "outputs": [
        {
          "data": {
            "image/png": "[encoded data removed]",
            "text/plain": [
              "<Figure size 432x288 with 1 Axes>"
            ]
          },
          "metadata": {
            "needs_background": "light"
          },
          "output_type": "display_data"
        }
      ],
      "source": [
        "#Plot Pattern Type\n",
        "sns.countplot(y=\"PatternType\", data=data,alpha=0.95,palette='husl')\n",
        "plt.show()"
      ]
    },
    {
      "cell_type": "code",
      "execution_count": null,
      "metadata": {
        "scrolled": true,
        "id": "pX11pLVxwbNN",
        "outputId": "6154e627-3ec9-4faa-cf7a-1d702d2bf64e"
      },
      "outputs": [
        {
          "data": {
            "image/png": "[encoded data removed]",
            "text/plain": [
              "<Figure size 432x288 with 1 Axes>"
            ]
          },
          "metadata": {},
          "output_type": "display_data"
        }
      ],
      "source": [
        "#Plot Recommendation\n",
        "Pie = data['Recommendation'].value_counts()\n",
        "color = sns.color_palette('viridis')\n",
        "Pie.plot.pie(autopct='%.2f%%',textprops={'color':\"w\"},colors=color, shadow= True)\n",
        "plt.legend(loc=\"upper left\")\n",
        "plt.show()"
      ]
    },
    {
      "cell_type": "code",
      "execution_count": null,
      "metadata": {
        "scrolled": false,
        "id": "I_MzUGvJwbNO",
        "outputId": "afed99ee-f963-42dd-e82f-dc2ade518804"
      },
      "outputs": [
        {
          "data": {
            "text/plain": [
              "count    493.000000\n",
              "mean       3.137931\n",
              "std        1.798046\n",
              "min        0.000000\n",
              "25%        3.000000\n",
              "50%        4.000000\n",
              "75%        4.000000\n",
              "max        5.000000\n",
              "Name: Rating, dtype: float64"
            ]
          },
          "execution_count": 132,
          "metadata": {},
          "output_type": "execute_result"
        }
      ],
      "source": [
        "data['Rating'].describe()"
      ]
    },
    {
      "cell_type": "markdown",
      "metadata": {
        "id": "tKYp-XszwbNO"
      },
      "source": [
        "# Feature Selection/Extraction"
      ]
    },
    {
      "cell_type": "code",
      "execution_count": null,
      "metadata": {
        "scrolled": true,
        "id": "s-iCbxwzwbNO",
        "outputId": "5c8c2112-8b1c-4a51-c342-801906aff689"
      },
      "outputs": [
        {
          "data": {
            "text/html": [
              "<div>\n",
              "<style scoped>\n",
              "    .dataframe tbody tr th:only-of-type {\n",
              "        vertical-align: middle;\n",
              "    }\n",
              "\n",
              "    .dataframe tbody tr th {\n",
              "        vertical-align: top;\n",
              "    }\n",
              "\n",
              "    .dataframe thead th {\n",
              "        text-align: right;\n",
              "    }\n",
              "</style>\n",
              "<table border=\"1\" class=\"dataframe\">\n",
              "  <thead>\n",
              "    <tr style=\"text-align: right;\">\n",
              "      <th></th>\n",
              "      <th>Style</th>\n",
              "      <th>Price</th>\n",
              "      <th>Rating</th>\n",
              "      <th>Size</th>\n",
              "      <th>Season</th>\n",
              "      <th>NeckLine</th>\n",
              "      <th>SleeveLength</th>\n",
              "      <th>Waistline</th>\n",
              "      <th>Material</th>\n",
              "      <th>Decoration</th>\n",
              "      <th>PatternType</th>\n",
              "      <th>Recommendation</th>\n",
              "    </tr>\n",
              "  </thead>\n",
              "  <tbody>\n",
              "    <tr>\n",
              "      <th>0</th>\n",
              "      <td>Sexy</td>\n",
              "      <td>Low</td>\n",
              "      <td>4</td>\n",
              "      <td>M</td>\n",
              "      <td>Summer</td>\n",
              "      <td>o-neck</td>\n",
              "      <td>sleeveless</td>\n",
              "      <td>empire</td>\n",
              "      <td>cotton</td>\n",
              "      <td>ruffles</td>\n",
              "      <td>animal</td>\n",
              "      <td>1</td>\n",
              "    </tr>\n",
              "    <tr>\n",
              "      <th>1</th>\n",
              "      <td>Casual</td>\n",
              "      <td>Low</td>\n",
              "      <td>0</td>\n",
              "      <td>L</td>\n",
              "      <td>Summer</td>\n",
              "      <td>o-neck</td>\n",
              "      <td>petal</td>\n",
              "      <td>natural</td>\n",
              "      <td>microfiber</td>\n",
              "      <td>ruffles</td>\n",
              "      <td>animal</td>\n",
              "      <td>0</td>\n",
              "    </tr>\n",
              "    <tr>\n",
              "      <th>2</th>\n",
              "      <td>Vintage</td>\n",
              "      <td>High</td>\n",
              "      <td>0</td>\n",
              "      <td>L</td>\n",
              "      <td>Autumn</td>\n",
              "      <td>o-neck</td>\n",
              "      <td>full</td>\n",
              "      <td>natural</td>\n",
              "      <td>polyster</td>\n",
              "      <td>lace</td>\n",
              "      <td>print</td>\n",
              "      <td>0</td>\n",
              "    </tr>\n",
              "    <tr>\n",
              "      <th>3</th>\n",
              "      <td>Brief</td>\n",
              "      <td>Average</td>\n",
              "      <td>4</td>\n",
              "      <td>L</td>\n",
              "      <td>Spring</td>\n",
              "      <td>o-neck</td>\n",
              "      <td>full</td>\n",
              "      <td>natural</td>\n",
              "      <td>silk</td>\n",
              "      <td>embroidary</td>\n",
              "      <td>print</td>\n",
              "      <td>1</td>\n",
              "    </tr>\n",
              "    <tr>\n",
              "      <th>4</th>\n",
              "      <td>Cute</td>\n",
              "      <td>Low</td>\n",
              "      <td>4</td>\n",
              "      <td>M</td>\n",
              "      <td>Summer</td>\n",
              "      <td>o-neck</td>\n",
              "      <td>butterfly</td>\n",
              "      <td>natural</td>\n",
              "      <td>chiffon</td>\n",
              "      <td>bow</td>\n",
              "      <td>dot</td>\n",
              "      <td>0</td>\n",
              "    </tr>\n",
              "  </tbody>\n",
              "</table>\n",
              "</div>"
            ],
            "text/plain": [
              "     Style    Price  Rating Size  Season NeckLine SleeveLength Waistline  \\\n",
              "0     Sexy      Low       4    M  Summer   o-neck   sleeveless    empire   \n",
              "1   Casual      Low       0    L  Summer   o-neck        petal   natural   \n",
              "2  Vintage     High       0    L  Autumn   o-neck         full   natural   \n",
              "3    Brief  Average       4    L  Spring   o-neck         full   natural   \n",
              "4     Cute      Low       4    M  Summer   o-neck    butterfly   natural   \n",
              "\n",
              "     Material  Decoration PatternType  Recommendation  \n",
              "0      cotton     ruffles      animal               1  \n",
              "1  microfiber     ruffles      animal               0  \n",
              "2    polyster        lace       print               0  \n",
              "3        silk  embroidary       print               1  \n",
              "4     chiffon         bow         dot               0  "
            ]
          },
          "execution_count": 133,
          "metadata": {},
          "output_type": "execute_result"
        }
      ],
      "source": [
        "data.head()"
      ]
    },
    {
      "cell_type": "code",
      "execution_count": null,
      "metadata": {
        "id": "_ely8ivTwbNP"
      },
      "outputs": [],
      "source": [
        "data['Style']= data['Style'].map({'Bohemian':0, 'Brief':1, 'Casual':2, 'Cute':3, 'Fashion':4, 'Flare':5,\n",
        "                                  'Novelty':6, 'OL':7, 'Sexy':8, 'Vintage':9, 'Work':10, 'Party':11})\n",
        "data['Price']= data['Price'].map({'Low':0, 'Average':1, 'Medium':2, 'High':3, 'Very-High':4})\n",
        "data['Size']= data['Size'].map({'S':0, 'M':1, 'L':2, 'XL':3, 'Free':4})\n",
        "data['Season']= data['Season'].map({'Autumn':0, 'Spring':1, 'Summer':2, 'Winter':3})\n",
        "data['NeckLine']= data['NeckLine'].map({'o-neck':0, 'v-neck':1, 'boat-neck':2, 'peterpan-collor':3, 'ruffled':4,\n",
        "                                        'turndowncollor':5, 'slash-neck':6, 'mandarin-collor':7,'open':8,\n",
        "                                        'square-collor':9, 'sweetheart':10, 'Scoop':11, 'halter':12, 'backless':13,\n",
        "                                        'bowneck':14})\n",
        "data['SleeveLength']= data['SleeveLength'].map({'sleeveless':0, 'halfsleeves':1, 'capsleeves':2, 'short':3, 'full':4,\n",
        "                                                'petal':5, 'threequarter':6, 'turndowncollor':7, 'butterfly':8})\n",
        "data['Waistline']= data['Waistline'].map({'empire':0, 'dropped':1, 'natural':2, 'princess':3})\n",
        "data['Material']= data['Material'].map({'cotton':0, 'microfiber':1, 'polyster':2, 'silk':3, 'chiffon':4, 'nylon':5,\n",
        "                                        'milksilk':6, 'linen':7, 'rayon':8, 'lycra':9, 'acrylic':10, 'spandex':11,\n",
        "                                        'lace':12,'model':13, 'cashmere':14, 'viscos':15, 'knitting':16, 'wool':17,\n",
        "                                        'mix':18, 'other':19})\n",
        "data['Decoration']= data['Decoration'].map({'ruffles':0, 'lace':1, 'embroidary':2, 'bow':3, 'beading':4, 'sashes':5,\n",
        "                                            'hollowout':6, 'pockets':7, 'sequined':8, 'applique':9, 'button':10,'Tiered':11, \n",
        "                                            'rivet':12,'feathers':13, 'flowers':14, 'pearls':15, 'crystal':16,'ruched':17,\n",
        "                                            'draped':18, 'tassel':19, 'plain':20, 'cascading':21, 'none':22})\n",
        "data['PatternType']= data['PatternType'].map({'none':0, 'animal':1, 'print':2, 'dot':3, 'solid':4, 'patchwork':5,\n",
        "                                              'striped':6,'geometric':7, 'plaid':8, 'leopard':9, 'floral':10,\n",
        "                                              'character':11, 'splice':12})"
      ]
    },
    {
      "cell_type": "code",
      "execution_count": null,
      "metadata": {
        "id": "MU0DJvYdwbNP",
        "outputId": "6321f913-9bf2-4739-a4ec-245781e2a2ce"
      },
      "outputs": [
        {
          "data": {
            "text/html": [
              "<div>\n",
              "<style scoped>\n",
              "    .dataframe tbody tr th:only-of-type {\n",
              "        vertical-align: middle;\n",
              "    }\n",
              "\n",
              "    .dataframe tbody tr th {\n",
              "        vertical-align: top;\n",
              "    }\n",
              "\n",
              "    .dataframe thead th {\n",
              "        text-align: right;\n",
              "    }\n",
              "</style>\n",
              "<table border=\"1\" class=\"dataframe\">\n",
              "  <thead>\n",
              "    <tr style=\"text-align: right;\">\n",
              "      <th></th>\n",
              "      <th>Style</th>\n",
              "      <th>Price</th>\n",
              "      <th>Rating</th>\n",
              "      <th>Size</th>\n",
              "      <th>Season</th>\n",
              "      <th>NeckLine</th>\n",
              "      <th>SleeveLength</th>\n",
              "      <th>Waistline</th>\n",
              "      <th>Material</th>\n",
              "      <th>Decoration</th>\n",
              "      <th>PatternType</th>\n",
              "      <th>Recommendation</th>\n",
              "    </tr>\n",
              "  </thead>\n",
              "  <tbody>\n",
              "    <tr>\n",
              "      <th>0</th>\n",
              "      <td>8</td>\n",
              "      <td>0</td>\n",
              "      <td>4</td>\n",
              "      <td>1</td>\n",
              "      <td>2</td>\n",
              "      <td>0</td>\n",
              "      <td>0</td>\n",
              "      <td>0</td>\n",
              "      <td>0</td>\n",
              "      <td>0</td>\n",
              "      <td>1</td>\n",
              "      <td>1</td>\n",
              "    </tr>\n",
              "    <tr>\n",
              "      <th>1</th>\n",
              "      <td>2</td>\n",
              "      <td>0</td>\n",
              "      <td>0</td>\n",
              "      <td>2</td>\n",
              "      <td>2</td>\n",
              "      <td>0</td>\n",
              "      <td>5</td>\n",
              "      <td>2</td>\n",
              "      <td>1</td>\n",
              "      <td>0</td>\n",
              "      <td>1</td>\n",
              "      <td>0</td>\n",
              "    </tr>\n",
              "    <tr>\n",
              "      <th>2</th>\n",
              "      <td>9</td>\n",
              "      <td>3</td>\n",
              "      <td>0</td>\n",
              "      <td>2</td>\n",
              "      <td>0</td>\n",
              "      <td>0</td>\n",
              "      <td>4</td>\n",
              "      <td>2</td>\n",
              "      <td>2</td>\n",
              "      <td>1</td>\n",
              "      <td>2</td>\n",
              "      <td>0</td>\n",
              "    </tr>\n",
              "    <tr>\n",
              "      <th>3</th>\n",
              "      <td>1</td>\n",
              "      <td>1</td>\n",
              "      <td>4</td>\n",
              "      <td>2</td>\n",
              "      <td>1</td>\n",
              "      <td>0</td>\n",
              "      <td>4</td>\n",
              "      <td>2</td>\n",
              "      <td>3</td>\n",
              "      <td>2</td>\n",
              "      <td>2</td>\n",
              "      <td>1</td>\n",
              "    </tr>\n",
              "    <tr>\n",
              "      <th>4</th>\n",
              "      <td>3</td>\n",
              "      <td>0</td>\n",
              "      <td>4</td>\n",
              "      <td>1</td>\n",
              "      <td>2</td>\n",
              "      <td>0</td>\n",
              "      <td>8</td>\n",
              "      <td>2</td>\n",
              "      <td>4</td>\n",
              "      <td>3</td>\n",
              "      <td>3</td>\n",
              "      <td>0</td>\n",
              "    </tr>\n",
              "    <tr>\n",
              "      <th>...</th>\n",
              "      <td>...</td>\n",
              "      <td>...</td>\n",
              "      <td>...</td>\n",
              "      <td>...</td>\n",
              "      <td>...</td>\n",
              "      <td>...</td>\n",
              "      <td>...</td>\n",
              "      <td>...</td>\n",
              "      <td>...</td>\n",
              "      <td>...</td>\n",
              "      <td>...</td>\n",
              "      <td>...</td>\n",
              "    </tr>\n",
              "    <tr>\n",
              "      <th>495</th>\n",
              "      <td>2</td>\n",
              "      <td>0</td>\n",
              "      <td>4</td>\n",
              "      <td>1</td>\n",
              "      <td>1</td>\n",
              "      <td>0</td>\n",
              "      <td>4</td>\n",
              "      <td>2</td>\n",
              "      <td>2</td>\n",
              "      <td>1</td>\n",
              "      <td>4</td>\n",
              "      <td>1</td>\n",
              "    </tr>\n",
              "    <tr>\n",
              "      <th>496</th>\n",
              "      <td>8</td>\n",
              "      <td>0</td>\n",
              "      <td>4</td>\n",
              "      <td>4</td>\n",
              "      <td>2</td>\n",
              "      <td>0</td>\n",
              "      <td>4</td>\n",
              "      <td>0</td>\n",
              "      <td>0</td>\n",
              "      <td>1</td>\n",
              "      <td>4</td>\n",
              "      <td>0</td>\n",
              "    </tr>\n",
              "    <tr>\n",
              "      <th>497</th>\n",
              "      <td>2</td>\n",
              "      <td>1</td>\n",
              "      <td>4</td>\n",
              "      <td>1</td>\n",
              "      <td>2</td>\n",
              "      <td>1</td>\n",
              "      <td>4</td>\n",
              "      <td>0</td>\n",
              "      <td>0</td>\n",
              "      <td>1</td>\n",
              "      <td>4</td>\n",
              "      <td>1</td>\n",
              "    </tr>\n",
              "    <tr>\n",
              "      <th>498</th>\n",
              "      <td>2</td>\n",
              "      <td>1</td>\n",
              "      <td>4</td>\n",
              "      <td>2</td>\n",
              "      <td>3</td>\n",
              "      <td>2</td>\n",
              "      <td>0</td>\n",
              "      <td>0</td>\n",
              "      <td>3</td>\n",
              "      <td>9</td>\n",
              "      <td>2</td>\n",
              "      <td>1</td>\n",
              "    </tr>\n",
              "    <tr>\n",
              "      <th>499</th>\n",
              "      <td>2</td>\n",
              "      <td>0</td>\n",
              "      <td>4</td>\n",
              "      <td>4</td>\n",
              "      <td>2</td>\n",
              "      <td>1</td>\n",
              "      <td>3</td>\n",
              "      <td>0</td>\n",
              "      <td>0</td>\n",
              "      <td>1</td>\n",
              "      <td>4</td>\n",
              "      <td>0</td>\n",
              "    </tr>\n",
              "  </tbody>\n",
              "</table>\n",
              "<p>493 rows × 12 columns</p>\n",
              "</div>"
            ],
            "text/plain": [
              "     Style  Price  Rating  Size  Season  NeckLine  SleeveLength  Waistline  \\\n",
              "0        8      0       4     1       2         0             0          0   \n",
              "1        2      0       0     2       2         0             5          2   \n",
              "2        9      3       0     2       0         0             4          2   \n",
              "3        1      1       4     2       1         0             4          2   \n",
              "4        3      0       4     1       2         0             8          2   \n",
              "..     ...    ...     ...   ...     ...       ...           ...        ...   \n",
              "495      2      0       4     1       1         0             4          2   \n",
              "496      8      0       4     4       2         0             4          0   \n",
              "497      2      1       4     1       2         1             4          0   \n",
              "498      2      1       4     2       3         2             0          0   \n",
              "499      2      0       4     4       2         1             3          0   \n",
              "\n",
              "     Material  Decoration  PatternType  Recommendation  \n",
              "0           0           0            1               1  \n",
              "1           1           0            1               0  \n",
              "2           2           1            2               0  \n",
              "3           3           2            2               1  \n",
              "4           4           3            3               0  \n",
              "..        ...         ...          ...             ...  \n",
              "495         2           1            4               1  \n",
              "496         0           1            4               0  \n",
              "497         0           1            4               1  \n",
              "498         3           9            2               1  \n",
              "499         0           1            4               0  \n",
              "\n",
              "[493 rows x 12 columns]"
            ]
          },
          "execution_count": 135,
          "metadata": {},
          "output_type": "execute_result"
        }
      ],
      "source": [
        "data"
      ]
    },
    {
      "cell_type": "code",
      "execution_count": null,
      "metadata": {
        "id": "uoegTO5YwbNQ",
        "outputId": "8ef0426a-5e01-4e8c-c86d-b904416a1763"
      },
      "outputs": [
        {
          "name": "stdout",
          "output_type": "stream",
          "text": [
            "   Selected_columns  Score_chi2\n",
            "11   Recommendation  288.000000\n",
            "8          Material   13.505488\n",
            "1             Price    8.090818\n",
            "0             Style    5.729792\n",
            "6      SleeveLength    1.631758\n"
          ]
        }
      ],
      "source": [
        "from sklearn.feature_selection import SelectKBest, f_classif, chi2\n",
        "X = data\n",
        "y = data['Recommendation']\n",
        "#feature selection using chi2\n",
        "bestfeatures = SelectKBest(score_func=chi2, k=5)\n",
        "fit = bestfeatures.fit(X,y)\n",
        "#create df for scores\n",
        "dfscores = pd.DataFrame(fit.scores_)\n",
        "#create df for column names\n",
        "dfcolumns = pd.DataFrame(X.columns)\n",
        "#concat two dataframes for better visualization \n",
        "featureScores = pd.concat([dfcolumns,dfscores],axis=1)\n",
        "#naming the dataframe columns\n",
        "featureScores.columns = ['Selected_columns','Score_chi2'] \n",
        "#print 5 best features\n",
        "print(featureScores.nlargest(5,'Score_chi2'))"
      ]
    },
    {
      "cell_type": "markdown",
      "metadata": {
        "id": "E_x8QEAiwbNQ"
      },
      "source": [
        "# Classification"
      ]
    },
    {
      "cell_type": "code",
      "execution_count": null,
      "metadata": {
        "id": "f9hQI8QDwbNQ"
      },
      "outputs": [],
      "source": [
        "from sklearn.preprocessing import LabelEncoder # Buat nge-coding\n",
        "from sklearn.model_selection import train_test_split # Buat testing training\n",
        "from sklearn.metrics import confusion_matrix\n",
        "from sklearn.metrics import classification_report\n",
        "from sklearn import svm"
      ]
    },
    {
      "cell_type": "code",
      "execution_count": null,
      "metadata": {
        "id": "MgThH4iqwbNQ",
        "outputId": "293c34e8-9b67-4bbb-8332-a9f0a64c1213"
      },
      "outputs": [
        {
          "data": {
            "text/html": [
              "<div>\n",
              "<style scoped>\n",
              "    .dataframe tbody tr th:only-of-type {\n",
              "        vertical-align: middle;\n",
              "    }\n",
              "\n",
              "    .dataframe tbody tr th {\n",
              "        vertical-align: top;\n",
              "    }\n",
              "\n",
              "    .dataframe thead th {\n",
              "        text-align: right;\n",
              "    }\n",
              "</style>\n",
              "<table border=\"1\" class=\"dataframe\">\n",
              "  <thead>\n",
              "    <tr style=\"text-align: right;\">\n",
              "      <th></th>\n",
              "      <th>Style</th>\n",
              "      <th>Price</th>\n",
              "      <th>Rating</th>\n",
              "      <th>Size</th>\n",
              "      <th>Season</th>\n",
              "      <th>NeckLine</th>\n",
              "      <th>SleeveLength</th>\n",
              "      <th>Waistline</th>\n",
              "      <th>Material</th>\n",
              "      <th>Decoration</th>\n",
              "      <th>PatternType</th>\n",
              "      <th>Recommendation</th>\n",
              "    </tr>\n",
              "  </thead>\n",
              "  <tbody>\n",
              "    <tr>\n",
              "      <th>0</th>\n",
              "      <td>8</td>\n",
              "      <td>0</td>\n",
              "      <td>4</td>\n",
              "      <td>1</td>\n",
              "      <td>2</td>\n",
              "      <td>0</td>\n",
              "      <td>0</td>\n",
              "      <td>0</td>\n",
              "      <td>0</td>\n",
              "      <td>0</td>\n",
              "      <td>1</td>\n",
              "      <td>1</td>\n",
              "    </tr>\n",
              "    <tr>\n",
              "      <th>1</th>\n",
              "      <td>2</td>\n",
              "      <td>0</td>\n",
              "      <td>0</td>\n",
              "      <td>2</td>\n",
              "      <td>2</td>\n",
              "      <td>0</td>\n",
              "      <td>5</td>\n",
              "      <td>2</td>\n",
              "      <td>1</td>\n",
              "      <td>0</td>\n",
              "      <td>1</td>\n",
              "      <td>0</td>\n",
              "    </tr>\n",
              "    <tr>\n",
              "      <th>2</th>\n",
              "      <td>9</td>\n",
              "      <td>3</td>\n",
              "      <td>0</td>\n",
              "      <td>2</td>\n",
              "      <td>0</td>\n",
              "      <td>0</td>\n",
              "      <td>4</td>\n",
              "      <td>2</td>\n",
              "      <td>2</td>\n",
              "      <td>1</td>\n",
              "      <td>2</td>\n",
              "      <td>0</td>\n",
              "    </tr>\n",
              "    <tr>\n",
              "      <th>3</th>\n",
              "      <td>1</td>\n",
              "      <td>1</td>\n",
              "      <td>4</td>\n",
              "      <td>2</td>\n",
              "      <td>1</td>\n",
              "      <td>0</td>\n",
              "      <td>4</td>\n",
              "      <td>2</td>\n",
              "      <td>3</td>\n",
              "      <td>2</td>\n",
              "      <td>2</td>\n",
              "      <td>1</td>\n",
              "    </tr>\n",
              "    <tr>\n",
              "      <th>4</th>\n",
              "      <td>3</td>\n",
              "      <td>0</td>\n",
              "      <td>4</td>\n",
              "      <td>1</td>\n",
              "      <td>2</td>\n",
              "      <td>0</td>\n",
              "      <td>8</td>\n",
              "      <td>2</td>\n",
              "      <td>4</td>\n",
              "      <td>3</td>\n",
              "      <td>3</td>\n",
              "      <td>0</td>\n",
              "    </tr>\n",
              "  </tbody>\n",
              "</table>\n",
              "</div>"
            ],
            "text/plain": [
              "   Style  Price  Rating  Size  Season  NeckLine  SleeveLength  Waistline  \\\n",
              "0      8      0       4     1       2         0             0          0   \n",
              "1      2      0       0     2       2         0             5          2   \n",
              "2      9      3       0     2       0         0             4          2   \n",
              "3      1      1       4     2       1         0             4          2   \n",
              "4      3      0       4     1       2         0             8          2   \n",
              "\n",
              "   Material  Decoration  PatternType  Recommendation  \n",
              "0         0           0            1               1  \n",
              "1         1           0            1               0  \n",
              "2         2           1            2               0  \n",
              "3         3           2            2               1  \n",
              "4         4           3            3               0  "
            ]
          },
          "execution_count": 138,
          "metadata": {},
          "output_type": "execute_result"
        }
      ],
      "source": [
        "LE = LabelEncoder()\n",
        "data.Recommendation = LE.fit_transform(data.Recommendation )\n",
        "data.head()"
      ]
    },
    {
      "cell_type": "code",
      "execution_count": null,
      "metadata": {
        "id": "dnEHv291wbNR"
      },
      "outputs": [],
      "source": [
        "x = data.drop(\"Recommendation\", axis = 1)\n",
        "y = data.Recommendation"
      ]
    },
    {
      "cell_type": "markdown",
      "metadata": {
        "id": "Y5hlJkAYwbNR"
      },
      "source": [
        "## Metode SVM"
      ]
    },
    {
      "cell_type": "markdown",
      "metadata": {
        "id": "evRClihfwbNR"
      },
      "source": [
        "### Repeat hold out"
      ]
    },
    {
      "cell_type": "code",
      "execution_count": null,
      "metadata": {
        "scrolled": true,
        "id": "sN5qVpYQwbNR",
        "outputId": "41105789-2d1b-49f6-92a5-020b1aef173a"
      },
      "outputs": [
        {
          "name": "stdout",
          "output_type": "stream",
          "text": [
            "0.5967741935483871\n",
            "0.13725490196078433\n",
            "0.9178082191780822\n"
          ]
        },
        {
          "data": {
            "text/html": [
              "<div>\n",
              "<style scoped>\n",
              "    .dataframe tbody tr th:only-of-type {\n",
              "        vertical-align: middle;\n",
              "    }\n",
              "\n",
              "    .dataframe tbody tr th {\n",
              "        vertical-align: top;\n",
              "    }\n",
              "\n",
              "    .dataframe thead th {\n",
              "        text-align: right;\n",
              "    }\n",
              "</style>\n",
              "<table border=\"1\" class=\"dataframe\">\n",
              "  <thead>\n",
              "    <tr style=\"text-align: right;\">\n",
              "      <th></th>\n",
              "      <th>Akurasi</th>\n",
              "      <th>Spesitifitas</th>\n",
              "      <th>Sensitivitas</th>\n",
              "    </tr>\n",
              "  </thead>\n",
              "  <tbody>\n",
              "    <tr>\n",
              "      <th>0</th>\n",
              "      <td>0.596774</td>\n",
              "      <td>0.137255</td>\n",
              "      <td>0.917808</td>\n",
              "    </tr>\n",
              "    <tr>\n",
              "      <th>1</th>\n",
              "      <td>0.596774</td>\n",
              "      <td>0.137255</td>\n",
              "      <td>0.917808</td>\n",
              "    </tr>\n",
              "    <tr>\n",
              "      <th>2</th>\n",
              "      <td>0.596774</td>\n",
              "      <td>0.137255</td>\n",
              "      <td>0.917808</td>\n",
              "    </tr>\n",
              "    <tr>\n",
              "      <th>3</th>\n",
              "      <td>0.596774</td>\n",
              "      <td>0.137255</td>\n",
              "      <td>0.917808</td>\n",
              "    </tr>\n",
              "    <tr>\n",
              "      <th>4</th>\n",
              "      <td>0.596774</td>\n",
              "      <td>0.137255</td>\n",
              "      <td>0.917808</td>\n",
              "    </tr>\n",
              "  </tbody>\n",
              "</table>\n",
              "</div>"
            ],
            "text/plain": [
              "    Akurasi  Spesitifitas  Sensitivitas\n",
              "0  0.596774      0.137255      0.917808\n",
              "1  0.596774      0.137255      0.917808\n",
              "2  0.596774      0.137255      0.917808\n",
              "3  0.596774      0.137255      0.917808\n",
              "4  0.596774      0.137255      0.917808"
            ]
          },
          "execution_count": 140,
          "metadata": {},
          "output_type": "execute_result"
        }
      ],
      "source": [
        "clf = svm.SVC(kernel = 'linear')\n",
        "\n",
        "cm=[]\n",
        "total=[]\n",
        "ac=[]\n",
        "se=[]\n",
        "sp=[]\n",
        "\n",
        "n=5\n",
        "\n",
        "for j in range (n):\n",
        "    x_train, x_test, y_train, y_test = train_test_split(x, y, test_size=0.25, random_state=1)  \n",
        "    y_pred = clf.fit(x_train, y_train).predict(x_test)\n",
        "    cm.append((confusion_matrix(y_test, y_pred)).astype(float))\n",
        "    total.append(sum(sum(cm[j])))\n",
        "    ac.append((cm[j][0,0]+cm[j][1,1])/total[j])\n",
        "    se.append(cm[j][0,0]/(cm[j][0,0]+cm[j][0,1]))\n",
        "    sp.append(cm[j][1,1]/(cm[j][1,0]+cm[j][1,1]))\n",
        "akurasi=np.mean(ac)\n",
        "spesifisiti=np.mean(sp)\n",
        "sensitiviti=np.mean(se)\n",
        "print(akurasi)\n",
        "print(spesifisiti)\n",
        "print(sensitiviti)\n",
        "\n",
        "df_k3=pd.DataFrame()\n",
        "test=dict()\n",
        "for j in range (3):\n",
        "    test[j]=[]\n",
        "for i in range (n):\n",
        "    test[0].append(ac[i])\n",
        "    test[1].append(sp[i])\n",
        "    test[2].append(se[i])\n",
        "for i in range (3):\n",
        "    df_k3=pd.concat([df_k3,pd.DataFrame(test[i])],axis=1)\n",
        "df_k3.columns=['Akurasi','Spesitifitas','Sensitivitas']\n",
        "df_k3"
      ]
    },
    {
      "cell_type": "markdown",
      "metadata": {
        "id": "8A5ANuIDwbNS"
      },
      "source": [
        "#### ROC-AUC"
      ]
    },
    {
      "cell_type": "code",
      "execution_count": null,
      "metadata": {
        "id": "x3R3t2BowbNS",
        "outputId": "c8d0aea0-ca09-4aab-8598-23f31597bb43"
      },
      "outputs": [
        {
          "data": {
            "image/png": "[encoded data removed]",
            "text/plain": [
              "<Figure size 432x288 with 1 Axes>"
            ]
          },
          "metadata": {
            "needs_background": "light"
          },
          "output_type": "display_data"
        }
      ],
      "source": [
        "import sklearn.metrics as metrics\n",
        "clf = svm.SVC(kernel = 'linear', probability = True)\n",
        "clf = clf.fit(x_train, y_train)\n",
        "probs = clf.predict_proba(x_test)#probabilitas klasifikasi\n",
        "preds = probs[:,1]\n",
        "fpr3, tpr3, threshold = metrics.roc_curve(y_test, preds)\n",
        "roc_auc3 = metrics.auc(fpr3, tpr3)\n",
        "\n",
        "import matplotlib.pyplot as plt\n",
        "plt.title('ROC SVM with Repeated Hold Out')\n",
        "plt.plot(fpr3, tpr3, 'b', label = 'AUC = %0.2f' % roc_auc3)\n",
        "plt.legend(loc = 'lower right')\n",
        "plt.plot([0, 1], [0, 1],'r--') #garis linier merah\n",
        "plt.xlim([0, 1])\n",
        "plt.ylim([0, 1])\n",
        "plt.ylabel('True Positive Rate')\n",
        "plt.xlabel('False Positive Rate')\n",
        "plt.show()"
      ]
    },
    {
      "cell_type": "markdown",
      "metadata": {
        "id": "EzfLyJb7wbNS"
      },
      "source": [
        "### K-fold CV\n",
        "dengan k=5"
      ]
    },
    {
      "cell_type": "code",
      "execution_count": null,
      "metadata": {
        "id": "BizkggxdwbNS",
        "outputId": "3060f3a5-8328-4051-a01d-f873de7bd6df"
      },
      "outputs": [
        {
          "data": {
            "text/plain": [
              "5"
            ]
          },
          "execution_count": 142,
          "metadata": {},
          "output_type": "execute_result"
        }
      ],
      "source": [
        "from sklearn.model_selection import KFold\n",
        "from sklearn import model_selection\n",
        "from sklearn.model_selection import cross_val_score\n",
        "from sklearn.model_selection import cross_val_predict\n",
        "\n",
        "kfold = KFold(n_splits = 5)\n",
        "kfold.get_n_splits(x)"
      ]
    },
    {
      "cell_type": "code",
      "execution_count": null,
      "metadata": {
        "id": "P3FcDrlIwbNT"
      },
      "outputs": [],
      "source": [
        "arr_x = np.array(x)\n",
        "arr_y = np.array(y)"
      ]
    },
    {
      "cell_type": "code",
      "execution_count": null,
      "metadata": {
        "id": "Y2MrDOG1wbNT",
        "outputId": "42636ca0-b67b-4e5f-e7ca-fcf688a3780b"
      },
      "outputs": [
        {
          "name": "stdout",
          "output_type": "stream",
          "text": [
            "Train :  [ 99 100 101 102 103 104 105 106 107 108 109 110 111 112 113 114 115 116\n",
            " 117 118 119 120 121 122 123 124 125 126 127 128 129 130 131 132 133 134\n",
            " 135 136 137 138 139 140 141 142 143 144 145 146 147 148 149 150 151 152\n",
            " 153 154 155 156 157 158 159 160 161 162 163 164 165 166 167 168 169 170\n",
            " 171 172 173 174 175 176 177 178 179 180 181 182 183 184 185 186 187 188\n",
            " 189 190 191 192 193 194 195 196 197 198 199 200 201 202 203 204 205 206\n",
            " 207 208 209 210 211 212 213 214 215 216 217 218 219 220 221 222 223 224\n",
            " 225 226 227 228 229 230 231 232 233 234 235 236 237 238 239 240 241 242\n",
            " 243 244 245 246 247 248 249 250 251 252 253 254 255 256 257 258 259 260\n",
            " 261 262 263 264 265 266 267 268 269 270 271 272 273 274 275 276 277 278\n",
            " 279 280 281 282 283 284 285 286 287 288 289 290 291 292 293 294 295 296\n",
            " 297 298 299 300 301 302 303 304 305 306 307 308 309 310 311 312 313 314\n",
            " 315 316 317 318 319 320 321 322 323 324 325 326 327 328 329 330 331 332\n",
            " 333 334 335 336 337 338 339 340 341 342 343 344 345 346 347 348 349 350\n",
            " 351 352 353 354 355 356 357 358 359 360 361 362 363 364 365 366 367 368\n",
            " 369 370 371 372 373 374 375 376 377 378 379 380 381 382 383 384 385 386\n",
            " 387 388 389 390 391 392 393 394 395 396 397 398 399 400 401 402 403 404\n",
            " 405 406 407 408 409 410 411 412 413 414 415 416 417 418 419 420 421 422\n",
            " 423 424 425 426 427 428 429 430 431 432 433 434 435 436 437 438 439 440\n",
            " 441 442 443 444 445 446 447 448 449 450 451 452 453 454 455 456 457 458\n",
            " 459 460 461 462 463 464 465 466 467 468 469 470 471 472 473 474 475 476\n",
            " 477 478 479 480 481 482 483 484 485 486 487 488 489 490 491 492] Test :  [ 0  1  2  3  4  5  6  7  8  9 10 11 12 13 14 15 16 17 18 19 20 21 22 23\n",
            " 24 25 26 27 28 29 30 31 32 33 34 35 36 37 38 39 40 41 42 43 44 45 46 47\n",
            " 48 49 50 51 52 53 54 55 56 57 58 59 60 61 62 63 64 65 66 67 68 69 70 71\n",
            " 72 73 74 75 76 77 78 79 80 81 82 83 84 85 86 87 88 89 90 91 92 93 94 95\n",
            " 96 97 98]\n",
            "Train :  [  0   1   2   3   4   5   6   7   8   9  10  11  12  13  14  15  16  17\n",
            "  18  19  20  21  22  23  24  25  26  27  28  29  30  31  32  33  34  35\n",
            "  36  37  38  39  40  41  42  43  44  45  46  47  48  49  50  51  52  53\n",
            "  54  55  56  57  58  59  60  61  62  63  64  65  66  67  68  69  70  71\n",
            "  72  73  74  75  76  77  78  79  80  81  82  83  84  85  86  87  88  89\n",
            "  90  91  92  93  94  95  96  97  98 198 199 200 201 202 203 204 205 206\n",
            " 207 208 209 210 211 212 213 214 215 216 217 218 219 220 221 222 223 224\n",
            " 225 226 227 228 229 230 231 232 233 234 235 236 237 238 239 240 241 242\n",
            " 243 244 245 246 247 248 249 250 251 252 253 254 255 256 257 258 259 260\n",
            " 261 262 263 264 265 266 267 268 269 270 271 272 273 274 275 276 277 278\n",
            " 279 280 281 282 283 284 285 286 287 288 289 290 291 292 293 294 295 296\n",
            " 297 298 299 300 301 302 303 304 305 306 307 308 309 310 311 312 313 314\n",
            " 315 316 317 318 319 320 321 322 323 324 325 326 327 328 329 330 331 332\n",
            " 333 334 335 336 337 338 339 340 341 342 343 344 345 346 347 348 349 350\n",
            " 351 352 353 354 355 356 357 358 359 360 361 362 363 364 365 366 367 368\n",
            " 369 370 371 372 373 374 375 376 377 378 379 380 381 382 383 384 385 386\n",
            " 387 388 389 390 391 392 393 394 395 396 397 398 399 400 401 402 403 404\n",
            " 405 406 407 408 409 410 411 412 413 414 415 416 417 418 419 420 421 422\n",
            " 423 424 425 426 427 428 429 430 431 432 433 434 435 436 437 438 439 440\n",
            " 441 442 443 444 445 446 447 448 449 450 451 452 453 454 455 456 457 458\n",
            " 459 460 461 462 463 464 465 466 467 468 469 470 471 472 473 474 475 476\n",
            " 477 478 479 480 481 482 483 484 485 486 487 488 489 490 491 492] Test :  [ 99 100 101 102 103 104 105 106 107 108 109 110 111 112 113 114 115 116\n",
            " 117 118 119 120 121 122 123 124 125 126 127 128 129 130 131 132 133 134\n",
            " 135 136 137 138 139 140 141 142 143 144 145 146 147 148 149 150 151 152\n",
            " 153 154 155 156 157 158 159 160 161 162 163 164 165 166 167 168 169 170\n",
            " 171 172 173 174 175 176 177 178 179 180 181 182 183 184 185 186 187 188\n",
            " 189 190 191 192 193 194 195 196 197]\n",
            "Train :  [  0   1   2   3   4   5   6   7   8   9  10  11  12  13  14  15  16  17\n",
            "  18  19  20  21  22  23  24  25  26  27  28  29  30  31  32  33  34  35\n",
            "  36  37  38  39  40  41  42  43  44  45  46  47  48  49  50  51  52  53\n",
            "  54  55  56  57  58  59  60  61  62  63  64  65  66  67  68  69  70  71\n",
            "  72  73  74  75  76  77  78  79  80  81  82  83  84  85  86  87  88  89\n",
            "  90  91  92  93  94  95  96  97  98  99 100 101 102 103 104 105 106 107\n",
            " 108 109 110 111 112 113 114 115 116 117 118 119 120 121 122 123 124 125\n",
            " 126 127 128 129 130 131 132 133 134 135 136 137 138 139 140 141 142 143\n",
            " 144 145 146 147 148 149 150 151 152 153 154 155 156 157 158 159 160 161\n",
            " 162 163 164 165 166 167 168 169 170 171 172 173 174 175 176 177 178 179\n",
            " 180 181 182 183 184 185 186 187 188 189 190 191 192 193 194 195 196 197\n",
            " 297 298 299 300 301 302 303 304 305 306 307 308 309 310 311 312 313 314\n",
            " 315 316 317 318 319 320 321 322 323 324 325 326 327 328 329 330 331 332\n",
            " 333 334 335 336 337 338 339 340 341 342 343 344 345 346 347 348 349 350\n",
            " 351 352 353 354 355 356 357 358 359 360 361 362 363 364 365 366 367 368\n",
            " 369 370 371 372 373 374 375 376 377 378 379 380 381 382 383 384 385 386\n",
            " 387 388 389 390 391 392 393 394 395 396 397 398 399 400 401 402 403 404\n",
            " 405 406 407 408 409 410 411 412 413 414 415 416 417 418 419 420 421 422\n",
            " 423 424 425 426 427 428 429 430 431 432 433 434 435 436 437 438 439 440\n",
            " 441 442 443 444 445 446 447 448 449 450 451 452 453 454 455 456 457 458\n",
            " 459 460 461 462 463 464 465 466 467 468 469 470 471 472 473 474 475 476\n",
            " 477 478 479 480 481 482 483 484 485 486 487 488 489 490 491 492] Test :  [198 199 200 201 202 203 204 205 206 207 208 209 210 211 212 213 214 215\n",
            " 216 217 218 219 220 221 222 223 224 225 226 227 228 229 230 231 232 233\n",
            " 234 235 236 237 238 239 240 241 242 243 244 245 246 247 248 249 250 251\n",
            " 252 253 254 255 256 257 258 259 260 261 262 263 264 265 266 267 268 269\n",
            " 270 271 272 273 274 275 276 277 278 279 280 281 282 283 284 285 286 287\n",
            " 288 289 290 291 292 293 294 295 296]\n",
            "Train :  [  0   1   2   3   4   5   6   7   8   9  10  11  12  13  14  15  16  17\n",
            "  18  19  20  21  22  23  24  25  26  27  28  29  30  31  32  33  34  35\n",
            "  36  37  38  39  40  41  42  43  44  45  46  47  48  49  50  51  52  53\n",
            "  54  55  56  57  58  59  60  61  62  63  64  65  66  67  68  69  70  71\n",
            "  72  73  74  75  76  77  78  79  80  81  82  83  84  85  86  87  88  89\n",
            "  90  91  92  93  94  95  96  97  98  99 100 101 102 103 104 105 106 107\n",
            " 108 109 110 111 112 113 114 115 116 117 118 119 120 121 122 123 124 125\n",
            " 126 127 128 129 130 131 132 133 134 135 136 137 138 139 140 141 142 143\n",
            " 144 145 146 147 148 149 150 151 152 153 154 155 156 157 158 159 160 161\n",
            " 162 163 164 165 166 167 168 169 170 171 172 173 174 175 176 177 178 179\n",
            " 180 181 182 183 184 185 186 187 188 189 190 191 192 193 194 195 196 197\n",
            " 198 199 200 201 202 203 204 205 206 207 208 209 210 211 212 213 214 215\n",
            " 216 217 218 219 220 221 222 223 224 225 226 227 228 229 230 231 232 233\n",
            " 234 235 236 237 238 239 240 241 242 243 244 245 246 247 248 249 250 251\n",
            " 252 253 254 255 256 257 258 259 260 261 262 263 264 265 266 267 268 269\n",
            " 270 271 272 273 274 275 276 277 278 279 280 281 282 283 284 285 286 287\n",
            " 288 289 290 291 292 293 294 295 296 395 396 397 398 399 400 401 402 403\n",
            " 404 405 406 407 408 409 410 411 412 413 414 415 416 417 418 419 420 421\n",
            " 422 423 424 425 426 427 428 429 430 431 432 433 434 435 436 437 438 439\n",
            " 440 441 442 443 444 445 446 447 448 449 450 451 452 453 454 455 456 457\n",
            " 458 459 460 461 462 463 464 465 466 467 468 469 470 471 472 473 474 475\n",
            " 476 477 478 479 480 481 482 483 484 485 486 487 488 489 490 491 492] Test :  [297 298 299 300 301 302 303 304 305 306 307 308 309 310 311 312 313 314\n",
            " 315 316 317 318 319 320 321 322 323 324 325 326 327 328 329 330 331 332\n",
            " 333 334 335 336 337 338 339 340 341 342 343 344 345 346 347 348 349 350\n",
            " 351 352 353 354 355 356 357 358 359 360 361 362 363 364 365 366 367 368\n",
            " 369 370 371 372 373 374 375 376 377 378 379 380 381 382 383 384 385 386\n",
            " 387 388 389 390 391 392 393 394]\n",
            "Train :  [  0   1   2   3   4   5   6   7   8   9  10  11  12  13  14  15  16  17\n",
            "  18  19  20  21  22  23  24  25  26  27  28  29  30  31  32  33  34  35\n",
            "  36  37  38  39  40  41  42  43  44  45  46  47  48  49  50  51  52  53\n",
            "  54  55  56  57  58  59  60  61  62  63  64  65  66  67  68  69  70  71\n",
            "  72  73  74  75  76  77  78  79  80  81  82  83  84  85  86  87  88  89\n",
            "  90  91  92  93  94  95  96  97  98  99 100 101 102 103 104 105 106 107\n",
            " 108 109 110 111 112 113 114 115 116 117 118 119 120 121 122 123 124 125\n",
            " 126 127 128 129 130 131 132 133 134 135 136 137 138 139 140 141 142 143\n",
            " 144 145 146 147 148 149 150 151 152 153 154 155 156 157 158 159 160 161\n",
            " 162 163 164 165 166 167 168 169 170 171 172 173 174 175 176 177 178 179\n",
            " 180 181 182 183 184 185 186 187 188 189 190 191 192 193 194 195 196 197\n",
            " 198 199 200 201 202 203 204 205 206 207 208 209 210 211 212 213 214 215\n",
            " 216 217 218 219 220 221 222 223 224 225 226 227 228 229 230 231 232 233\n",
            " 234 235 236 237 238 239 240 241 242 243 244 245 246 247 248 249 250 251\n",
            " 252 253 254 255 256 257 258 259 260 261 262 263 264 265 266 267 268 269\n",
            " 270 271 272 273 274 275 276 277 278 279 280 281 282 283 284 285 286 287\n",
            " 288 289 290 291 292 293 294 295 296 297 298 299 300 301 302 303 304 305\n",
            " 306 307 308 309 310 311 312 313 314 315 316 317 318 319 320 321 322 323\n",
            " 324 325 326 327 328 329 330 331 332 333 334 335 336 337 338 339 340 341\n",
            " 342 343 344 345 346 347 348 349 350 351 352 353 354 355 356 357 358 359\n",
            " 360 361 362 363 364 365 366 367 368 369 370 371 372 373 374 375 376 377\n",
            " 378 379 380 381 382 383 384 385 386 387 388 389 390 391 392 393 394] Test :  [395 396 397 398 399 400 401 402 403 404 405 406 407 408 409 410 411 412\n",
            " 413 414 415 416 417 418 419 420 421 422 423 424 425 426 427 428 429 430\n",
            " 431 432 433 434 435 436 437 438 439 440 441 442 443 444 445 446 447 448\n",
            " 449 450 451 452 453 454 455 456 457 458 459 460 461 462 463 464 465 466\n",
            " 467 468 469 470 471 472 473 474 475 476 477 478 479 480 481 482 483 484\n",
            " 485 486 487 488 489 490 491 492]\n"
          ]
        }
      ],
      "source": [
        "for train_index, test_index in kfold.split(arr_x):\n",
        "    print('Train : ', train_index, 'Test : ', test_index)"
      ]
    },
    {
      "cell_type": "code",
      "execution_count": null,
      "metadata": {
        "id": "in-5EL51wbNT"
      },
      "outputs": [],
      "source": [
        "x_train1, x_test1 = arr_x[train_index], arr_x[test_index]\n",
        "y_train1, y_test1 = arr_y[train_index], arr_y[test_index]"
      ]
    },
    {
      "cell_type": "code",
      "execution_count": null,
      "metadata": {
        "id": "xPQXJR6xwbNT",
        "outputId": "8ea3e8a0-07f4-4bf9-afae-e989704e1474"
      },
      "outputs": [
        {
          "data": {
            "text/plain": [
              "array([0.57575758, 0.60606061, 0.45454545, 0.68367347, 0.56122449])"
            ]
          },
          "execution_count": 146,
          "metadata": {},
          "output_type": "execute_result"
        }
      ],
      "source": [
        "model_kfold1 = svm.SVC(kernel = 'linear')\n",
        "\n",
        "results_kfold1 = model_selection.cross_val_score(model_kfold1, x, y, cv = kfold)\n",
        "results_kfold1"
      ]
    },
    {
      "cell_type": "code",
      "execution_count": null,
      "metadata": {
        "id": "akdWFATawbNT",
        "outputId": "66d77bcc-855c-477c-f920-edb0a87d6e11"
      },
      "outputs": [
        {
          "name": "stdout",
          "output_type": "stream",
          "text": [
            "[[218  12]\n",
            " [155  10]]\n"
          ]
        }
      ],
      "source": [
        "y_pred1 = cross_val_predict(model_kfold1, x_train1, y_train1, cv = kfold)\n",
        "cm1 = confusion_matrix(y_train1, y_pred1)\n",
        "print(cm1)"
      ]
    },
    {
      "cell_type": "code",
      "execution_count": null,
      "metadata": {
        "scrolled": false,
        "id": "lscd1RIQwbNU",
        "outputId": "0577a811-77b8-4ea6-b815-17fd7912e2c0"
      },
      "outputs": [
        {
          "name": "stdout",
          "output_type": "stream",
          "text": [
            "0.5772151898734177\n",
            "0.06060606060606061\n",
            "0.9478260869565217\n"
          ]
        }
      ],
      "source": [
        "se=[]\n",
        "sp=[]\n",
        "akurasi = cross_val_score(model_kfold1, x_train1, y_train1, cv = kfold, scoring='accuracy')\n",
        "akurasi = np.array(akurasi)\n",
        "se.append(cm1[0,0]/(cm1[0,0]+cm1[0,1]))\n",
        "sp.append(cm1[1,1]/(cm1[1,0]+cm1[1,1]))\n",
        "akurasi=np.mean(akurasi)\n",
        "spesifisiti=np.mean(sp)\n",
        "sensitiviti=np.mean(se)\n",
        "print(akurasi)\n",
        "print(spesifisiti)\n",
        "print(sensitiviti)"
      ]
    },
    {
      "cell_type": "markdown",
      "metadata": {
        "id": "RnRErUGfwbNU"
      },
      "source": [
        "#### ROC-AUC"
      ]
    },
    {
      "cell_type": "code",
      "execution_count": null,
      "metadata": {
        "id": "aksC5IUTwbNU",
        "outputId": "af619ea2-3118-41cc-b54d-c445c2f1c9fc"
      },
      "outputs": [
        {
          "data": {
            "image/png": "[encoded data removed]",
            "text/plain": [
              "<Figure size 432x288 with 1 Axes>"
            ]
          },
          "metadata": {
            "needs_background": "light"
          },
          "output_type": "display_data"
        }
      ],
      "source": [
        "import sklearn.metrics as metrics\n",
        "clf = svm.SVC(kernel = 'linear', probability = True)\n",
        "clf = clf.fit(x_train1, y_train1)\n",
        "probs = clf.predict_proba(x_test1)#probabilitas klasifikasi\n",
        "preds = probs[:,1]\n",
        "fpr2, tpr2, threshold = metrics.roc_curve(y_test1, preds)\n",
        "roc_auc2 = metrics.auc(fpr2, tpr2)\n",
        "\n",
        "import matplotlib.pyplot as plt\n",
        "plt.title('ROC SVM with K-fold CV')\n",
        "plt.plot(fpr2, tpr2, 'b', label = 'AUC = %0.2f' % roc_auc2)\n",
        "plt.legend(loc = 'lower right')\n",
        "plt.plot([0, 1], [0, 1],'r--') #garis linier merah\n",
        "plt.xlim([0, 1])\n",
        "plt.ylim([0, 1])\n",
        "plt.ylabel('True Positive Rate')\n",
        "plt.xlabel('False Positive Rate')\n",
        "plt.show()"
      ]
    },
    {
      "cell_type": "markdown",
      "metadata": {
        "id": "PZUuncN-wbNV"
      },
      "source": [
        "## Metode Naive Bayes"
      ]
    },
    {
      "cell_type": "markdown",
      "metadata": {
        "id": "_2-cUowxwbNV"
      },
      "source": [
        "### Repeated Hold Out"
      ]
    },
    {
      "cell_type": "code",
      "execution_count": null,
      "metadata": {
        "id": "9rQoCM1IwbNV",
        "outputId": "edd1475b-1dc9-4028-ae5e-6fc7b01f7f01"
      },
      "outputs": [
        {
          "name": "stdout",
          "output_type": "stream",
          "text": [
            "0.4919354838709678\n",
            "0.23529411764705882\n",
            "0.6712328767123288\n"
          ]
        },
        {
          "data": {
            "text/html": [
              "<div>\n",
              "<style scoped>\n",
              "    .dataframe tbody tr th:only-of-type {\n",
              "        vertical-align: middle;\n",
              "    }\n",
              "\n",
              "    .dataframe tbody tr th {\n",
              "        vertical-align: top;\n",
              "    }\n",
              "\n",
              "    .dataframe thead th {\n",
              "        text-align: right;\n",
              "    }\n",
              "</style>\n",
              "<table border=\"1\" class=\"dataframe\">\n",
              "  <thead>\n",
              "    <tr style=\"text-align: right;\">\n",
              "      <th></th>\n",
              "      <th>Akurasi</th>\n",
              "      <th>Spesitifitas</th>\n",
              "      <th>Sensitivitas</th>\n",
              "    </tr>\n",
              "  </thead>\n",
              "  <tbody>\n",
              "    <tr>\n",
              "      <th>0</th>\n",
              "      <td>0.491935</td>\n",
              "      <td>0.235294</td>\n",
              "      <td>0.671233</td>\n",
              "    </tr>\n",
              "    <tr>\n",
              "      <th>1</th>\n",
              "      <td>0.491935</td>\n",
              "      <td>0.235294</td>\n",
              "      <td>0.671233</td>\n",
              "    </tr>\n",
              "    <tr>\n",
              "      <th>2</th>\n",
              "      <td>0.491935</td>\n",
              "      <td>0.235294</td>\n",
              "      <td>0.671233</td>\n",
              "    </tr>\n",
              "    <tr>\n",
              "      <th>3</th>\n",
              "      <td>0.491935</td>\n",
              "      <td>0.235294</td>\n",
              "      <td>0.671233</td>\n",
              "    </tr>\n",
              "    <tr>\n",
              "      <th>4</th>\n",
              "      <td>0.491935</td>\n",
              "      <td>0.235294</td>\n",
              "      <td>0.671233</td>\n",
              "    </tr>\n",
              "  </tbody>\n",
              "</table>\n",
              "</div>"
            ],
            "text/plain": [
              "    Akurasi  Spesitifitas  Sensitivitas\n",
              "0  0.491935      0.235294      0.671233\n",
              "1  0.491935      0.235294      0.671233\n",
              "2  0.491935      0.235294      0.671233\n",
              "3  0.491935      0.235294      0.671233\n",
              "4  0.491935      0.235294      0.671233"
            ]
          },
          "execution_count": 150,
          "metadata": {},
          "output_type": "execute_result"
        }
      ],
      "source": [
        "from sklearn.naive_bayes import GaussianNB\n",
        "gnb = GaussianNB()\n",
        "\n",
        "cm=[]\n",
        "total=[]\n",
        "ac=[]\n",
        "se=[]\n",
        "sp=[]\n",
        "\n",
        "n=5\n",
        "\n",
        "for j in range (n):\n",
        "    x_train2, x_test2, y_train2, y_test2 = train_test_split(x, y, test_size=0.25, random_state=1)\n",
        "    y_pred2 = gnb.fit(x_train2, y_train2).predict(x_test2)\n",
        "    cm.append((confusion_matrix(y_test2, y_pred2)).astype(float))\n",
        "    total.append(sum(sum(cm[j])))\n",
        "    ac.append((cm[j][0,0]+cm[j][1,1])/total[j])\n",
        "    se.append(cm[j][0,0]/(cm[j][0,0]+cm[j][0,1]))\n",
        "    sp.append(cm[j][1,1]/(cm[j][1,0]+cm[j][1,1]))\n",
        "akurasi=np.mean(ac)\n",
        "spesifisiti=np.mean(sp)\n",
        "sensitiviti=np.mean(se)\n",
        "print(akurasi)\n",
        "print(spesifisiti)\n",
        "print(sensitiviti)\n",
        "\n",
        "df_k2=pd.DataFrame()\n",
        "test=dict()\n",
        "for j in range (3):\n",
        "    test[j]=[]\n",
        "for i in range (n):\n",
        "    test[0].append(ac[i])\n",
        "    test[1].append(sp[i])\n",
        "    test[2].append(se[i])\n",
        "for i in range (3):\n",
        "    df_k2=pd.concat([df_k2,pd.DataFrame(test[i])],axis=1)\n",
        "df_k2.columns=['Akurasi','Spesitifitas','Sensitivitas']\n",
        "df_k2"
      ]
    },
    {
      "cell_type": "markdown",
      "metadata": {
        "id": "dTD8voUYwbNW"
      },
      "source": [
        "#### ROC-AUC"
      ]
    },
    {
      "cell_type": "code",
      "execution_count": null,
      "metadata": {
        "id": "z633AhdQwbNW",
        "outputId": "aff5a8a8-1e83-4756-960a-cf5736904046"
      },
      "outputs": [
        {
          "data": {
            "image/png": "[encoded data removed]",
            "text/plain": [
              "<Figure size 432x288 with 1 Axes>"
            ]
          },
          "metadata": {
            "needs_background": "light"
          },
          "output_type": "display_data"
        }
      ],
      "source": [
        "import sklearn.metrics as metrics\n",
        "probs = gnb.predict_proba(x_test2) #probabilitas klasifikasi\n",
        "preds = probs[:,1]\n",
        "fpr, tpr, threshold = metrics.roc_curve(y_test2, preds)\n",
        "roc_auc = metrics.auc(fpr, tpr)\n",
        "\n",
        "import matplotlib.pyplot as plt\n",
        "plt.title('ROC Naive Bayes with Repeated Hold Out')\n",
        "plt.plot(fpr, tpr, 'b', label = 'AUC = %0.2f' % roc_auc)\n",
        "plt.legend(loc = 'lower right')\n",
        "plt.plot([0, 1], [0, 1],'r--') #garis linier merah\n",
        "plt.xlim([0, 1])\n",
        "plt.ylim([0, 1])\n",
        "plt.ylabel('True Positive Rate')\n",
        "plt.xlabel('False Positive Rate')\n",
        "plt.show()"
      ]
    },
    {
      "cell_type": "markdown",
      "metadata": {
        "id": "7N9bt3hwwbNW"
      },
      "source": [
        "### K-fold CV"
      ]
    },
    {
      "cell_type": "code",
      "execution_count": null,
      "metadata": {
        "id": "OeBgjt9rwbNW"
      },
      "outputs": [],
      "source": [
        "from sklearn import model_selection\n",
        "from sklearn.model_selection import KFold, cross_val_score, StratifiedKFold, RepeatedKFold\n",
        "kfold = KFold(n_splits=5)"
      ]
    },
    {
      "cell_type": "code",
      "execution_count": null,
      "metadata": {
        "id": "oZWQSZUawbNX",
        "outputId": "bde7c1b8-88b0-4dbb-8473-928f09b2747b"
      },
      "outputs": [
        {
          "name": "stdout",
          "output_type": "stream",
          "text": [
            "Train :  [ 99 100 101 102 103 104 105 106 107 108 109 110 111 112 113 114 115 116\n",
            " 117 118 119 120 121 122 123 124 125 126 127 128 129 130 131 132 133 134\n",
            " 135 136 137 138 139 140 141 142 143 144 145 146 147 148 149 150 151 152\n",
            " 153 154 155 156 157 158 159 160 161 162 163 164 165 166 167 168 169 170\n",
            " 171 172 173 174 175 176 177 178 179 180 181 182 183 184 185 186 187 188\n",
            " 189 190 191 192 193 194 195 196 197 198 199 200 201 202 203 204 205 206\n",
            " 207 208 209 210 211 212 213 214 215 216 217 218 219 220 221 222 223 224\n",
            " 225 226 227 228 229 230 231 232 233 234 235 236 237 238 239 240 241 242\n",
            " 243 244 245 246 247 248 249 250 251 252 253 254 255 256 257 258 259 260\n",
            " 261 262 263 264 265 266 267 268 269 270 271 272 273 274 275 276 277 278\n",
            " 279 280 281 282 283 284 285 286 287 288 289 290 291 292 293 294 295 296\n",
            " 297 298 299 300 301 302 303 304 305 306 307 308 309 310 311 312 313 314\n",
            " 315 316 317 318 319 320 321 322 323 324 325 326 327 328 329 330 331 332\n",
            " 333 334 335 336 337 338 339 340 341 342 343 344 345 346 347 348 349 350\n",
            " 351 352 353 354 355 356 357 358 359 360 361 362 363 364 365 366 367 368\n",
            " 369 370 371 372 373 374 375 376 377 378 379 380 381 382 383 384 385 386\n",
            " 387 388 389 390 391 392 393 394 395 396 397 398 399 400 401 402 403 404\n",
            " 405 406 407 408 409 410 411 412 413 414 415 416 417 418 419 420 421 422\n",
            " 423 424 425 426 427 428 429 430 431 432 433 434 435 436 437 438 439 440\n",
            " 441 442 443 444 445 446 447 448 449 450 451 452 453 454 455 456 457 458\n",
            " 459 460 461 462 463 464 465 466 467 468 469 470 471 472 473 474 475 476\n",
            " 477 478 479 480 481 482 483 484 485 486 487 488 489 490 491 492] Test :  [ 0  1  2  3  4  5  6  7  8  9 10 11 12 13 14 15 16 17 18 19 20 21 22 23\n",
            " 24 25 26 27 28 29 30 31 32 33 34 35 36 37 38 39 40 41 42 43 44 45 46 47\n",
            " 48 49 50 51 52 53 54 55 56 57 58 59 60 61 62 63 64 65 66 67 68 69 70 71\n",
            " 72 73 74 75 76 77 78 79 80 81 82 83 84 85 86 87 88 89 90 91 92 93 94 95\n",
            " 96 97 98]\n",
            "Train :  [  0   1   2   3   4   5   6   7   8   9  10  11  12  13  14  15  16  17\n",
            "  18  19  20  21  22  23  24  25  26  27  28  29  30  31  32  33  34  35\n",
            "  36  37  38  39  40  41  42  43  44  45  46  47  48  49  50  51  52  53\n",
            "  54  55  56  57  58  59  60  61  62  63  64  65  66  67  68  69  70  71\n",
            "  72  73  74  75  76  77  78  79  80  81  82  83  84  85  86  87  88  89\n",
            "  90  91  92  93  94  95  96  97  98 198 199 200 201 202 203 204 205 206\n",
            " 207 208 209 210 211 212 213 214 215 216 217 218 219 220 221 222 223 224\n",
            " 225 226 227 228 229 230 231 232 233 234 235 236 237 238 239 240 241 242\n",
            " 243 244 245 246 247 248 249 250 251 252 253 254 255 256 257 258 259 260\n",
            " 261 262 263 264 265 266 267 268 269 270 271 272 273 274 275 276 277 278\n",
            " 279 280 281 282 283 284 285 286 287 288 289 290 291 292 293 294 295 296\n",
            " 297 298 299 300 301 302 303 304 305 306 307 308 309 310 311 312 313 314\n",
            " 315 316 317 318 319 320 321 322 323 324 325 326 327 328 329 330 331 332\n",
            " 333 334 335 336 337 338 339 340 341 342 343 344 345 346 347 348 349 350\n",
            " 351 352 353 354 355 356 357 358 359 360 361 362 363 364 365 366 367 368\n",
            " 369 370 371 372 373 374 375 376 377 378 379 380 381 382 383 384 385 386\n",
            " 387 388 389 390 391 392 393 394 395 396 397 398 399 400 401 402 403 404\n",
            " 405 406 407 408 409 410 411 412 413 414 415 416 417 418 419 420 421 422\n",
            " 423 424 425 426 427 428 429 430 431 432 433 434 435 436 437 438 439 440\n",
            " 441 442 443 444 445 446 447 448 449 450 451 452 453 454 455 456 457 458\n",
            " 459 460 461 462 463 464 465 466 467 468 469 470 471 472 473 474 475 476\n",
            " 477 478 479 480 481 482 483 484 485 486 487 488 489 490 491 492] Test :  [ 99 100 101 102 103 104 105 106 107 108 109 110 111 112 113 114 115 116\n",
            " 117 118 119 120 121 122 123 124 125 126 127 128 129 130 131 132 133 134\n",
            " 135 136 137 138 139 140 141 142 143 144 145 146 147 148 149 150 151 152\n",
            " 153 154 155 156 157 158 159 160 161 162 163 164 165 166 167 168 169 170\n",
            " 171 172 173 174 175 176 177 178 179 180 181 182 183 184 185 186 187 188\n",
            " 189 190 191 192 193 194 195 196 197]\n",
            "Train :  [  0   1   2   3   4   5   6   7   8   9  10  11  12  13  14  15  16  17\n",
            "  18  19  20  21  22  23  24  25  26  27  28  29  30  31  32  33  34  35\n",
            "  36  37  38  39  40  41  42  43  44  45  46  47  48  49  50  51  52  53\n",
            "  54  55  56  57  58  59  60  61  62  63  64  65  66  67  68  69  70  71\n",
            "  72  73  74  75  76  77  78  79  80  81  82  83  84  85  86  87  88  89\n",
            "  90  91  92  93  94  95  96  97  98  99 100 101 102 103 104 105 106 107\n",
            " 108 109 110 111 112 113 114 115 116 117 118 119 120 121 122 123 124 125\n",
            " 126 127 128 129 130 131 132 133 134 135 136 137 138 139 140 141 142 143\n",
            " 144 145 146 147 148 149 150 151 152 153 154 155 156 157 158 159 160 161\n",
            " 162 163 164 165 166 167 168 169 170 171 172 173 174 175 176 177 178 179\n",
            " 180 181 182 183 184 185 186 187 188 189 190 191 192 193 194 195 196 197\n",
            " 297 298 299 300 301 302 303 304 305 306 307 308 309 310 311 312 313 314\n",
            " 315 316 317 318 319 320 321 322 323 324 325 326 327 328 329 330 331 332\n",
            " 333 334 335 336 337 338 339 340 341 342 343 344 345 346 347 348 349 350\n",
            " 351 352 353 354 355 356 357 358 359 360 361 362 363 364 365 366 367 368\n",
            " 369 370 371 372 373 374 375 376 377 378 379 380 381 382 383 384 385 386\n",
            " 387 388 389 390 391 392 393 394 395 396 397 398 399 400 401 402 403 404\n",
            " 405 406 407 408 409 410 411 412 413 414 415 416 417 418 419 420 421 422\n",
            " 423 424 425 426 427 428 429 430 431 432 433 434 435 436 437 438 439 440\n",
            " 441 442 443 444 445 446 447 448 449 450 451 452 453 454 455 456 457 458\n",
            " 459 460 461 462 463 464 465 466 467 468 469 470 471 472 473 474 475 476\n",
            " 477 478 479 480 481 482 483 484 485 486 487 488 489 490 491 492] Test :  [198 199 200 201 202 203 204 205 206 207 208 209 210 211 212 213 214 215\n",
            " 216 217 218 219 220 221 222 223 224 225 226 227 228 229 230 231 232 233\n",
            " 234 235 236 237 238 239 240 241 242 243 244 245 246 247 248 249 250 251\n",
            " 252 253 254 255 256 257 258 259 260 261 262 263 264 265 266 267 268 269\n",
            " 270 271 272 273 274 275 276 277 278 279 280 281 282 283 284 285 286 287\n",
            " 288 289 290 291 292 293 294 295 296]\n",
            "Train :  [  0   1   2   3   4   5   6   7   8   9  10  11  12  13  14  15  16  17\n",
            "  18  19  20  21  22  23  24  25  26  27  28  29  30  31  32  33  34  35\n",
            "  36  37  38  39  40  41  42  43  44  45  46  47  48  49  50  51  52  53\n",
            "  54  55  56  57  58  59  60  61  62  63  64  65  66  67  68  69  70  71\n",
            "  72  73  74  75  76  77  78  79  80  81  82  83  84  85  86  87  88  89\n",
            "  90  91  92  93  94  95  96  97  98  99 100 101 102 103 104 105 106 107\n",
            " 108 109 110 111 112 113 114 115 116 117 118 119 120 121 122 123 124 125\n",
            " 126 127 128 129 130 131 132 133 134 135 136 137 138 139 140 141 142 143\n",
            " 144 145 146 147 148 149 150 151 152 153 154 155 156 157 158 159 160 161\n",
            " 162 163 164 165 166 167 168 169 170 171 172 173 174 175 176 177 178 179\n",
            " 180 181 182 183 184 185 186 187 188 189 190 191 192 193 194 195 196 197\n",
            " 198 199 200 201 202 203 204 205 206 207 208 209 210 211 212 213 214 215\n",
            " 216 217 218 219 220 221 222 223 224 225 226 227 228 229 230 231 232 233\n",
            " 234 235 236 237 238 239 240 241 242 243 244 245 246 247 248 249 250 251\n",
            " 252 253 254 255 256 257 258 259 260 261 262 263 264 265 266 267 268 269\n",
            " 270 271 272 273 274 275 276 277 278 279 280 281 282 283 284 285 286 287\n",
            " 288 289 290 291 292 293 294 295 296 395 396 397 398 399 400 401 402 403\n",
            " 404 405 406 407 408 409 410 411 412 413 414 415 416 417 418 419 420 421\n",
            " 422 423 424 425 426 427 428 429 430 431 432 433 434 435 436 437 438 439\n",
            " 440 441 442 443 444 445 446 447 448 449 450 451 452 453 454 455 456 457\n",
            " 458 459 460 461 462 463 464 465 466 467 468 469 470 471 472 473 474 475\n",
            " 476 477 478 479 480 481 482 483 484 485 486 487 488 489 490 491 492] Test :  [297 298 299 300 301 302 303 304 305 306 307 308 309 310 311 312 313 314\n",
            " 315 316 317 318 319 320 321 322 323 324 325 326 327 328 329 330 331 332\n",
            " 333 334 335 336 337 338 339 340 341 342 343 344 345 346 347 348 349 350\n",
            " 351 352 353 354 355 356 357 358 359 360 361 362 363 364 365 366 367 368\n",
            " 369 370 371 372 373 374 375 376 377 378 379 380 381 382 383 384 385 386\n",
            " 387 388 389 390 391 392 393 394]\n",
            "Train :  [  0   1   2   3   4   5   6   7   8   9  10  11  12  13  14  15  16  17\n",
            "  18  19  20  21  22  23  24  25  26  27  28  29  30  31  32  33  34  35\n",
            "  36  37  38  39  40  41  42  43  44  45  46  47  48  49  50  51  52  53\n",
            "  54  55  56  57  58  59  60  61  62  63  64  65  66  67  68  69  70  71\n",
            "  72  73  74  75  76  77  78  79  80  81  82  83  84  85  86  87  88  89\n",
            "  90  91  92  93  94  95  96  97  98  99 100 101 102 103 104 105 106 107\n",
            " 108 109 110 111 112 113 114 115 116 117 118 119 120 121 122 123 124 125\n",
            " 126 127 128 129 130 131 132 133 134 135 136 137 138 139 140 141 142 143\n",
            " 144 145 146 147 148 149 150 151 152 153 154 155 156 157 158 159 160 161\n",
            " 162 163 164 165 166 167 168 169 170 171 172 173 174 175 176 177 178 179\n",
            " 180 181 182 183 184 185 186 187 188 189 190 191 192 193 194 195 196 197\n",
            " 198 199 200 201 202 203 204 205 206 207 208 209 210 211 212 213 214 215\n",
            " 216 217 218 219 220 221 222 223 224 225 226 227 228 229 230 231 232 233\n",
            " 234 235 236 237 238 239 240 241 242 243 244 245 246 247 248 249 250 251\n",
            " 252 253 254 255 256 257 258 259 260 261 262 263 264 265 266 267 268 269\n",
            " 270 271 272 273 274 275 276 277 278 279 280 281 282 283 284 285 286 287\n",
            " 288 289 290 291 292 293 294 295 296 297 298 299 300 301 302 303 304 305\n",
            " 306 307 308 309 310 311 312 313 314 315 316 317 318 319 320 321 322 323\n",
            " 324 325 326 327 328 329 330 331 332 333 334 335 336 337 338 339 340 341\n",
            " 342 343 344 345 346 347 348 349 350 351 352 353 354 355 356 357 358 359\n",
            " 360 361 362 363 364 365 366 367 368 369 370 371 372 373 374 375 376 377\n",
            " 378 379 380 381 382 383 384 385 386 387 388 389 390 391 392 393 394] Test :  [395 396 397 398 399 400 401 402 403 404 405 406 407 408 409 410 411 412\n",
            " 413 414 415 416 417 418 419 420 421 422 423 424 425 426 427 428 429 430\n",
            " 431 432 433 434 435 436 437 438 439 440 441 442 443 444 445 446 447 448\n",
            " 449 450 451 452 453 454 455 456 457 458 459 460 461 462 463 464 465 466\n",
            " 467 468 469 470 471 472 473 474 475 476 477 478 479 480 481 482 483 484\n",
            " 485 486 487 488 489 490 491 492]\n"
          ]
        }
      ],
      "source": [
        "arr_x1 = np.array(x)\n",
        "arr_y1 = np.array(y)\n",
        "\n",
        "for train_index1, test_index1 in kfold.split(arr_x1):\n",
        "    print('Train : ', train_index1, 'Test : ', test_index1)"
      ]
    },
    {
      "cell_type": "code",
      "execution_count": null,
      "metadata": {
        "id": "ef-HVEpYwbNX"
      },
      "outputs": [],
      "source": [
        "x_train3, x_test3 = arr_x[train_index1], arr_x[test_index1]\n",
        "y_train3, y_test3 = arr_y[train_index1], arr_y[test_index1]"
      ]
    },
    {
      "cell_type": "code",
      "execution_count": null,
      "metadata": {
        "id": "g60dWS0lwbNX",
        "outputId": "a56aadcd-db09-4ae2-c527-25c9da12fdb8"
      },
      "outputs": [
        {
          "data": {
            "text/plain": [
              "array([0.55555556, 0.52525253, 0.47474747, 0.55102041, 0.53061224])"
            ]
          },
          "execution_count": 155,
          "metadata": {},
          "output_type": "execute_result"
        }
      ],
      "source": [
        "model_kfold3 = GaussianNB()\n",
        "result_kfold3 = model_selection.cross_val_score(model_kfold3, x, y, cv=kfold)\n",
        "result_kfold3"
      ]
    },
    {
      "cell_type": "code",
      "execution_count": null,
      "metadata": {
        "id": "gHW30nyFwbNX",
        "outputId": "04f1add1-094e-4755-fd7b-b15c6a204ed5"
      },
      "outputs": [
        {
          "name": "stdout",
          "output_type": "stream",
          "text": [
            "[[175  55]\n",
            " [127  38]]\n"
          ]
        }
      ],
      "source": [
        "y_pred3 = cross_val_predict(model_kfold3, x_train3, y_train3, cv = kfold)\n",
        "cm2 = confusion_matrix(y_train3, y_pred3)\n",
        "print(cm2)"
      ]
    },
    {
      "cell_type": "code",
      "execution_count": null,
      "metadata": {
        "id": "cPz7pel-wbNY",
        "outputId": "aed5913c-9faf-4d08-ce0c-11b3e0b71fa2"
      },
      "outputs": [
        {
          "name": "stdout",
          "output_type": "stream",
          "text": [
            "0.5274376417233559\n",
            "0.23030303030303031\n",
            "0.7608695652173914\n"
          ]
        }
      ],
      "source": [
        "se=[]\n",
        "sp=[]\n",
        "akurasi = cross_val_score(model_kfold3, x, y, cv = kfold, scoring='accuracy')\n",
        "akurasi = np.array(akurasi)\n",
        "se.append(cm2[0,0]/(cm2[0,0]+cm2[0,1]))\n",
        "sp.append(cm2[1,1]/(cm2[1,0]+cm2[1,1]))\n",
        "akurasi=np.mean(akurasi)\n",
        "spesifisiti=np.mean(sp)\n",
        "sensitiviti=np.mean(se)\n",
        "print(akurasi)\n",
        "print(spesifisiti)\n",
        "print(sensitiviti)"
      ]
    },
    {
      "cell_type": "markdown",
      "metadata": {
        "id": "Pvy_QoIDwbNY"
      },
      "source": [
        "#### ROC-AUC"
      ]
    },
    {
      "cell_type": "code",
      "execution_count": null,
      "metadata": {
        "id": "bVafn-r-wbNY",
        "outputId": "63c89d9c-2686-4f8b-fad2-0855ada8581e"
      },
      "outputs": [
        {
          "data": {
            "image/png": "[encoded data removed]",
            "text/plain": [
              "<Figure size 432x288 with 1 Axes>"
            ]
          },
          "metadata": {
            "needs_background": "light"
          },
          "output_type": "display_data"
        }
      ],
      "source": [
        "import sklearn.metrics as metrics\n",
        "probs = gnb.predict_proba(x_test3) #probabilitas klasifikasi\n",
        "preds = probs[:,1]\n",
        "fpr1, tpr1, threshold = metrics.roc_curve(y_test3, preds)\n",
        "roc_auc1 = metrics.auc(fpr1, tpr1)\n",
        "\n",
        "import matplotlib.pyplot as plt\n",
        "plt.title('ROC Naive Bayes with k-fold CV')\n",
        "plt.plot(fpr1, tpr1, 'b', label = 'AUC = %0.2f' % roc_auc1)\n",
        "plt.legend(loc = 'lower right')\n",
        "plt.plot([0, 1], [0, 1],'r--') #garis linier merah\n",
        "plt.xlim([0, 1])\n",
        "plt.ylim([0, 1])\n",
        "plt.ylabel('True Positive Rate')\n",
        "plt.xlabel('False Positive Rate')\n",
        "plt.show()"
      ]
    }
  ],
  "metadata": {
    "kernelspec": {
      "display_name": "Python 3",
      "language": "python",
      "name": "python3"
    },
    "language_info": {
      "codemirror_mode": {
        "name": "ipython",
        "version": 3
      },
      "file_extension": ".py",
      "mimetype": "text/x-python",
      "name": "python",
      "nbconvert_exporter": "python",
      "pygments_lexer": "ipython3",
      "version": "3.8.5"
    },
    "colab": {
      "provenance": [],
      "include_colab_link": true
    }
  },
  "nbformat": 4,
  "nbformat_minor": 0
}